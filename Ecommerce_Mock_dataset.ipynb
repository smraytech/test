{
  "nbformat": 4,
  "nbformat_minor": 0,
  "metadata": {
    "colab": {
      "provenance": [],
      "authorship_tag": "ABX9TyOkbdXuiWBhCp0WjzeScyAw",
      "include_colab_link": true
    },
    "kernelspec": {
      "name": "python3",
      "display_name": "Python 3"
    },
    "language_info": {
      "name": "python"
    }
  },
  "cells": [
    {
      "cell_type": "markdown",
      "metadata": {
        "id": "view-in-github",
        "colab_type": "text"
      },
      "source": [
        "<a href=\"https://colab.research.google.com/github/smraytech/test/blob/main/Ecommerce_Mock_dataset.ipynb\" target=\"_parent\"><img src=\"https://colab.research.google.com/assets/colab-badge.svg\" alt=\"Open In Colab\"/></a>"
      ]
    },
    {
      "cell_type": "code",
      "execution_count": 3,
      "metadata": {
        "id": "1BGeq2Der-bB"
      },
      "outputs": [],
      "source": [
        "import pandas as pd"
      ]
    },
    {
      "cell_type": "markdown",
      "source": [
        "🔹 Step 1: Load the dataset"
      ],
      "metadata": {
        "id": "tV7M4hTpvPWO"
      }
    },
    {
      "cell_type": "code",
      "source": [
        "# Show all columns when displaying a dataframe\n",
        "pd.set_option('display.max_columns', None)\n",
        "df = pd.read_csv('/content/ecommerce_mock_dataset.csv')\n",
        "df"
      ],
      "metadata": {
        "colab": {
          "base_uri": "https://localhost:8080/",
          "height": 175
        },
        "id": "UZIRI0dUt68e",
        "outputId": "ed6064a9-2746-4b00-86b3-43e6dc69f206"
      },
      "execution_count": 10,
      "outputs": [
        {
          "output_type": "execute_result",
          "data": {
            "text/plain": [
              "         Date   Product     Category  Visits  Clicks  Conversions  \\\n",
              "0  2025-01-01  Laptop A  Electronics    1200     300           45   \n",
              "1  2025-01-01   Phone B       Mobile    2500     500           80   \n",
              "2  2025-01-02  Laptop A  Electronics    1100     280           40   \n",
              "3  2025-01-02   Phone B       Mobile    2600     520           85   \n",
              "\n",
              "   Revenue (£)  Marketing_Spend (£)  \n",
              "0        31500                 2000  \n",
              "1        48000                 3500  \n",
              "2        28000                 1800  \n",
              "3        50000                 3600  "
            ],
            "text/html": [
              "\n",
              "  <div id=\"df-bd4a323a-e30e-485f-b595-9895b57af8dd\" class=\"colab-df-container\">\n",
              "    <div>\n",
              "<style scoped>\n",
              "    .dataframe tbody tr th:only-of-type {\n",
              "        vertical-align: middle;\n",
              "    }\n",
              "\n",
              "    .dataframe tbody tr th {\n",
              "        vertical-align: top;\n",
              "    }\n",
              "\n",
              "    .dataframe thead th {\n",
              "        text-align: right;\n",
              "    }\n",
              "</style>\n",
              "<table border=\"1\" class=\"dataframe\">\n",
              "  <thead>\n",
              "    <tr style=\"text-align: right;\">\n",
              "      <th></th>\n",
              "      <th>Date</th>\n",
              "      <th>Product</th>\n",
              "      <th>Category</th>\n",
              "      <th>Visits</th>\n",
              "      <th>Clicks</th>\n",
              "      <th>Conversions</th>\n",
              "      <th>Revenue (£)</th>\n",
              "      <th>Marketing_Spend (£)</th>\n",
              "    </tr>\n",
              "  </thead>\n",
              "  <tbody>\n",
              "    <tr>\n",
              "      <th>0</th>\n",
              "      <td>2025-01-01</td>\n",
              "      <td>Laptop A</td>\n",
              "      <td>Electronics</td>\n",
              "      <td>1200</td>\n",
              "      <td>300</td>\n",
              "      <td>45</td>\n",
              "      <td>31500</td>\n",
              "      <td>2000</td>\n",
              "    </tr>\n",
              "    <tr>\n",
              "      <th>1</th>\n",
              "      <td>2025-01-01</td>\n",
              "      <td>Phone B</td>\n",
              "      <td>Mobile</td>\n",
              "      <td>2500</td>\n",
              "      <td>500</td>\n",
              "      <td>80</td>\n",
              "      <td>48000</td>\n",
              "      <td>3500</td>\n",
              "    </tr>\n",
              "    <tr>\n",
              "      <th>2</th>\n",
              "      <td>2025-01-02</td>\n",
              "      <td>Laptop A</td>\n",
              "      <td>Electronics</td>\n",
              "      <td>1100</td>\n",
              "      <td>280</td>\n",
              "      <td>40</td>\n",
              "      <td>28000</td>\n",
              "      <td>1800</td>\n",
              "    </tr>\n",
              "    <tr>\n",
              "      <th>3</th>\n",
              "      <td>2025-01-02</td>\n",
              "      <td>Phone B</td>\n",
              "      <td>Mobile</td>\n",
              "      <td>2600</td>\n",
              "      <td>520</td>\n",
              "      <td>85</td>\n",
              "      <td>50000</td>\n",
              "      <td>3600</td>\n",
              "    </tr>\n",
              "  </tbody>\n",
              "</table>\n",
              "</div>\n",
              "    <div class=\"colab-df-buttons\">\n",
              "\n",
              "  <div class=\"colab-df-container\">\n",
              "    <button class=\"colab-df-convert\" onclick=\"convertToInteractive('df-bd4a323a-e30e-485f-b595-9895b57af8dd')\"\n",
              "            title=\"Convert this dataframe to an interactive table.\"\n",
              "            style=\"display:none;\">\n",
              "\n",
              "  <svg xmlns=\"http://www.w3.org/2000/svg\" height=\"24px\" viewBox=\"0 -960 960 960\">\n",
              "    <path d=\"M120-120v-720h720v720H120Zm60-500h600v-160H180v160Zm220 220h160v-160H400v160Zm0 220h160v-160H400v160ZM180-400h160v-160H180v160Zm440 0h160v-160H620v160ZM180-180h160v-160H180v160Zm440 0h160v-160H620v160Z\"/>\n",
              "  </svg>\n",
              "    </button>\n",
              "\n",
              "  <style>\n",
              "    .colab-df-container {\n",
              "      display:flex;\n",
              "      gap: 12px;\n",
              "    }\n",
              "\n",
              "    .colab-df-convert {\n",
              "      background-color: #E8F0FE;\n",
              "      border: none;\n",
              "      border-radius: 50%;\n",
              "      cursor: pointer;\n",
              "      display: none;\n",
              "      fill: #1967D2;\n",
              "      height: 32px;\n",
              "      padding: 0 0 0 0;\n",
              "      width: 32px;\n",
              "    }\n",
              "\n",
              "    .colab-df-convert:hover {\n",
              "      background-color: #E2EBFA;\n",
              "      box-shadow: 0px 1px 2px rgba(60, 64, 67, 0.3), 0px 1px 3px 1px rgba(60, 64, 67, 0.15);\n",
              "      fill: #174EA6;\n",
              "    }\n",
              "\n",
              "    .colab-df-buttons div {\n",
              "      margin-bottom: 4px;\n",
              "    }\n",
              "\n",
              "    [theme=dark] .colab-df-convert {\n",
              "      background-color: #3B4455;\n",
              "      fill: #D2E3FC;\n",
              "    }\n",
              "\n",
              "    [theme=dark] .colab-df-convert:hover {\n",
              "      background-color: #434B5C;\n",
              "      box-shadow: 0px 1px 3px 1px rgba(0, 0, 0, 0.15);\n",
              "      filter: drop-shadow(0px 1px 2px rgba(0, 0, 0, 0.3));\n",
              "      fill: #FFFFFF;\n",
              "    }\n",
              "  </style>\n",
              "\n",
              "    <script>\n",
              "      const buttonEl =\n",
              "        document.querySelector('#df-bd4a323a-e30e-485f-b595-9895b57af8dd button.colab-df-convert');\n",
              "      buttonEl.style.display =\n",
              "        google.colab.kernel.accessAllowed ? 'block' : 'none';\n",
              "\n",
              "      async function convertToInteractive(key) {\n",
              "        const element = document.querySelector('#df-bd4a323a-e30e-485f-b595-9895b57af8dd');\n",
              "        const dataTable =\n",
              "          await google.colab.kernel.invokeFunction('convertToInteractive',\n",
              "                                                    [key], {});\n",
              "        if (!dataTable) return;\n",
              "\n",
              "        const docLinkHtml = 'Like what you see? Visit the ' +\n",
              "          '<a target=\"_blank\" href=https://colab.research.google.com/notebooks/data_table.ipynb>data table notebook</a>'\n",
              "          + ' to learn more about interactive tables.';\n",
              "        element.innerHTML = '';\n",
              "        dataTable['output_type'] = 'display_data';\n",
              "        await google.colab.output.renderOutput(dataTable, element);\n",
              "        const docLink = document.createElement('div');\n",
              "        docLink.innerHTML = docLinkHtml;\n",
              "        element.appendChild(docLink);\n",
              "      }\n",
              "    </script>\n",
              "  </div>\n",
              "\n",
              "\n",
              "    <div id=\"df-e2780a39-a7e4-4c4d-b0ba-755acee7a501\">\n",
              "      <button class=\"colab-df-quickchart\" onclick=\"quickchart('df-e2780a39-a7e4-4c4d-b0ba-755acee7a501')\"\n",
              "                title=\"Suggest charts\"\n",
              "                style=\"display:none;\">\n",
              "\n",
              "<svg xmlns=\"http://www.w3.org/2000/svg\" height=\"24px\"viewBox=\"0 0 24 24\"\n",
              "     width=\"24px\">\n",
              "    <g>\n",
              "        <path d=\"M19 3H5c-1.1 0-2 .9-2 2v14c0 1.1.9 2 2 2h14c1.1 0 2-.9 2-2V5c0-1.1-.9-2-2-2zM9 17H7v-7h2v7zm4 0h-2V7h2v10zm4 0h-2v-4h2v4z\"/>\n",
              "    </g>\n",
              "</svg>\n",
              "      </button>\n",
              "\n",
              "<style>\n",
              "  .colab-df-quickchart {\n",
              "      --bg-color: #E8F0FE;\n",
              "      --fill-color: #1967D2;\n",
              "      --hover-bg-color: #E2EBFA;\n",
              "      --hover-fill-color: #174EA6;\n",
              "      --disabled-fill-color: #AAA;\n",
              "      --disabled-bg-color: #DDD;\n",
              "  }\n",
              "\n",
              "  [theme=dark] .colab-df-quickchart {\n",
              "      --bg-color: #3B4455;\n",
              "      --fill-color: #D2E3FC;\n",
              "      --hover-bg-color: #434B5C;\n",
              "      --hover-fill-color: #FFFFFF;\n",
              "      --disabled-bg-color: #3B4455;\n",
              "      --disabled-fill-color: #666;\n",
              "  }\n",
              "\n",
              "  .colab-df-quickchart {\n",
              "    background-color: var(--bg-color);\n",
              "    border: none;\n",
              "    border-radius: 50%;\n",
              "    cursor: pointer;\n",
              "    display: none;\n",
              "    fill: var(--fill-color);\n",
              "    height: 32px;\n",
              "    padding: 0;\n",
              "    width: 32px;\n",
              "  }\n",
              "\n",
              "  .colab-df-quickchart:hover {\n",
              "    background-color: var(--hover-bg-color);\n",
              "    box-shadow: 0 1px 2px rgba(60, 64, 67, 0.3), 0 1px 3px 1px rgba(60, 64, 67, 0.15);\n",
              "    fill: var(--button-hover-fill-color);\n",
              "  }\n",
              "\n",
              "  .colab-df-quickchart-complete:disabled,\n",
              "  .colab-df-quickchart-complete:disabled:hover {\n",
              "    background-color: var(--disabled-bg-color);\n",
              "    fill: var(--disabled-fill-color);\n",
              "    box-shadow: none;\n",
              "  }\n",
              "\n",
              "  .colab-df-spinner {\n",
              "    border: 2px solid var(--fill-color);\n",
              "    border-color: transparent;\n",
              "    border-bottom-color: var(--fill-color);\n",
              "    animation:\n",
              "      spin 1s steps(1) infinite;\n",
              "  }\n",
              "\n",
              "  @keyframes spin {\n",
              "    0% {\n",
              "      border-color: transparent;\n",
              "      border-bottom-color: var(--fill-color);\n",
              "      border-left-color: var(--fill-color);\n",
              "    }\n",
              "    20% {\n",
              "      border-color: transparent;\n",
              "      border-left-color: var(--fill-color);\n",
              "      border-top-color: var(--fill-color);\n",
              "    }\n",
              "    30% {\n",
              "      border-color: transparent;\n",
              "      border-left-color: var(--fill-color);\n",
              "      border-top-color: var(--fill-color);\n",
              "      border-right-color: var(--fill-color);\n",
              "    }\n",
              "    40% {\n",
              "      border-color: transparent;\n",
              "      border-right-color: var(--fill-color);\n",
              "      border-top-color: var(--fill-color);\n",
              "    }\n",
              "    60% {\n",
              "      border-color: transparent;\n",
              "      border-right-color: var(--fill-color);\n",
              "    }\n",
              "    80% {\n",
              "      border-color: transparent;\n",
              "      border-right-color: var(--fill-color);\n",
              "      border-bottom-color: var(--fill-color);\n",
              "    }\n",
              "    90% {\n",
              "      border-color: transparent;\n",
              "      border-bottom-color: var(--fill-color);\n",
              "    }\n",
              "  }\n",
              "</style>\n",
              "\n",
              "      <script>\n",
              "        async function quickchart(key) {\n",
              "          const quickchartButtonEl =\n",
              "            document.querySelector('#' + key + ' button');\n",
              "          quickchartButtonEl.disabled = true;  // To prevent multiple clicks.\n",
              "          quickchartButtonEl.classList.add('colab-df-spinner');\n",
              "          try {\n",
              "            const charts = await google.colab.kernel.invokeFunction(\n",
              "                'suggestCharts', [key], {});\n",
              "          } catch (error) {\n",
              "            console.error('Error during call to suggestCharts:', error);\n",
              "          }\n",
              "          quickchartButtonEl.classList.remove('colab-df-spinner');\n",
              "          quickchartButtonEl.classList.add('colab-df-quickchart-complete');\n",
              "        }\n",
              "        (() => {\n",
              "          let quickchartButtonEl =\n",
              "            document.querySelector('#df-e2780a39-a7e4-4c4d-b0ba-755acee7a501 button');\n",
              "          quickchartButtonEl.style.display =\n",
              "            google.colab.kernel.accessAllowed ? 'block' : 'none';\n",
              "        })();\n",
              "      </script>\n",
              "    </div>\n",
              "\n",
              "  <div id=\"id_4bca5690-cef0-485d-892d-e88ba144e4ab\">\n",
              "    <style>\n",
              "      .colab-df-generate {\n",
              "        background-color: #E8F0FE;\n",
              "        border: none;\n",
              "        border-radius: 50%;\n",
              "        cursor: pointer;\n",
              "        display: none;\n",
              "        fill: #1967D2;\n",
              "        height: 32px;\n",
              "        padding: 0 0 0 0;\n",
              "        width: 32px;\n",
              "      }\n",
              "\n",
              "      .colab-df-generate:hover {\n",
              "        background-color: #E2EBFA;\n",
              "        box-shadow: 0px 1px 2px rgba(60, 64, 67, 0.3), 0px 1px 3px 1px rgba(60, 64, 67, 0.15);\n",
              "        fill: #174EA6;\n",
              "      }\n",
              "\n",
              "      [theme=dark] .colab-df-generate {\n",
              "        background-color: #3B4455;\n",
              "        fill: #D2E3FC;\n",
              "      }\n",
              "\n",
              "      [theme=dark] .colab-df-generate:hover {\n",
              "        background-color: #434B5C;\n",
              "        box-shadow: 0px 1px 3px 1px rgba(0, 0, 0, 0.15);\n",
              "        filter: drop-shadow(0px 1px 2px rgba(0, 0, 0, 0.3));\n",
              "        fill: #FFFFFF;\n",
              "      }\n",
              "    </style>\n",
              "    <button class=\"colab-df-generate\" onclick=\"generateWithVariable('df')\"\n",
              "            title=\"Generate code using this dataframe.\"\n",
              "            style=\"display:none;\">\n",
              "\n",
              "  <svg xmlns=\"http://www.w3.org/2000/svg\" height=\"24px\"viewBox=\"0 0 24 24\"\n",
              "       width=\"24px\">\n",
              "    <path d=\"M7,19H8.4L18.45,9,17,7.55,7,17.6ZM5,21V16.75L18.45,3.32a2,2,0,0,1,2.83,0l1.4,1.43a1.91,1.91,0,0,1,.58,1.4,1.91,1.91,0,0,1-.58,1.4L9.25,21ZM18.45,9,17,7.55Zm-12,3A5.31,5.31,0,0,0,4.9,8.1,5.31,5.31,0,0,0,1,6.5,5.31,5.31,0,0,0,4.9,4.9,5.31,5.31,0,0,0,6.5,1,5.31,5.31,0,0,0,8.1,4.9,5.31,5.31,0,0,0,12,6.5,5.46,5.46,0,0,0,6.5,12Z\"/>\n",
              "  </svg>\n",
              "    </button>\n",
              "    <script>\n",
              "      (() => {\n",
              "      const buttonEl =\n",
              "        document.querySelector('#id_4bca5690-cef0-485d-892d-e88ba144e4ab button.colab-df-generate');\n",
              "      buttonEl.style.display =\n",
              "        google.colab.kernel.accessAllowed ? 'block' : 'none';\n",
              "\n",
              "      buttonEl.onclick = () => {\n",
              "        google.colab.notebook.generateWithVariable('df');\n",
              "      }\n",
              "      })();\n",
              "    </script>\n",
              "  </div>\n",
              "\n",
              "    </div>\n",
              "  </div>\n"
            ],
            "application/vnd.google.colaboratory.intrinsic+json": {
              "type": "dataframe",
              "variable_name": "df",
              "summary": "{\n  \"name\": \"df\",\n  \"rows\": 4,\n  \"fields\": [\n    {\n      \"column\": \"Date\",\n      \"properties\": {\n        \"dtype\": \"object\",\n        \"num_unique_values\": 2,\n        \"samples\": [\n          \"2025-01-02\",\n          \"2025-01-01\"\n        ],\n        \"semantic_type\": \"\",\n        \"description\": \"\"\n      }\n    },\n    {\n      \"column\": \"Product\",\n      \"properties\": {\n        \"dtype\": \"string\",\n        \"num_unique_values\": 2,\n        \"samples\": [\n          \"Phone B\",\n          \"Laptop A\"\n        ],\n        \"semantic_type\": \"\",\n        \"description\": \"\"\n      }\n    },\n    {\n      \"column\": \"Category\",\n      \"properties\": {\n        \"dtype\": \"string\",\n        \"num_unique_values\": 2,\n        \"samples\": [\n          \"Mobile\",\n          \"Electronics\"\n        ],\n        \"semantic_type\": \"\",\n        \"description\": \"\"\n      }\n    },\n    {\n      \"column\": \"Visits\",\n      \"properties\": {\n        \"dtype\": \"number\",\n        \"std\": 810,\n        \"min\": 1100,\n        \"max\": 2600,\n        \"num_unique_values\": 4,\n        \"samples\": [\n          2500,\n          2600\n        ],\n        \"semantic_type\": \"\",\n        \"description\": \"\"\n      }\n    },\n    {\n      \"column\": \"Clicks\",\n      \"properties\": {\n        \"dtype\": \"number\",\n        \"std\": 127,\n        \"min\": 280,\n        \"max\": 520,\n        \"num_unique_values\": 4,\n        \"samples\": [\n          500,\n          520\n        ],\n        \"semantic_type\": \"\",\n        \"description\": \"\"\n      }\n    },\n    {\n      \"column\": \"Conversions\",\n      \"properties\": {\n        \"dtype\": \"number\",\n        \"std\": 23,\n        \"min\": 40,\n        \"max\": 85,\n        \"num_unique_values\": 4,\n        \"samples\": [\n          80,\n          85\n        ],\n        \"semantic_type\": \"\",\n        \"description\": \"\"\n      }\n    },\n    {\n      \"column\": \"Revenue (\\u00a3)\",\n      \"properties\": {\n        \"dtype\": \"number\",\n        \"std\": 11235,\n        \"min\": 28000,\n        \"max\": 50000,\n        \"num_unique_values\": 4,\n        \"samples\": [\n          48000,\n          50000\n        ],\n        \"semantic_type\": \"\",\n        \"description\": \"\"\n      }\n    },\n    {\n      \"column\": \"Marketing_Spend (\\u00a3)\",\n      \"properties\": {\n        \"dtype\": \"number\",\n        \"std\": 956,\n        \"min\": 1800,\n        \"max\": 3600,\n        \"num_unique_values\": 4,\n        \"samples\": [\n          3500,\n          3600\n        ],\n        \"semantic_type\": \"\",\n        \"description\": \"\"\n      }\n    }\n  ]\n}"
            }
          },
          "metadata": {},
          "execution_count": 10
        }
      ]
    },
    {
      "cell_type": "markdown",
      "source": [
        "🔹 Step 2: Calculate Key E-commerce KPIs"
      ],
      "metadata": {
        "id": "oWQdAU_qvUh4"
      }
    },
    {
      "cell_type": "code",
      "source": [
        "# Conversion Rate (CR) = Conversions / Visits * 100\n",
        "df['Conversion_Rate (%)'] = (df['Conversions'] / df['Visits']) * 100\n",
        "\n",
        "# Click-through Rate (CTR) = Clicks / Visits * 100\n",
        "df['CTR (%)'] = (df['Clicks'] / df['Visits']) * 100\n",
        "\n",
        "# Return on Ad Spend (ROAS) = Revenue / Marketing Spend\n",
        "df['ROAS'] = df['Revenue (£)'] / df['Marketing_Spend (£)']\n",
        "\n",
        "# Average Order Value (AOV) = Revenue / Conversions\n",
        "df['AOV (£)'] = df['Revenue (£)'] / df['Conversions']\n",
        "\n",
        "# Show updated dataset\n",
        "print(df)"
      ],
      "metadata": {
        "colab": {
          "base_uri": "https://localhost:8080/"
        },
        "id": "obOnyTs1uKNY",
        "outputId": "397a70b5-85f4-47d7-e623-3650c575e492"
      },
      "execution_count": 11,
      "outputs": [
        {
          "output_type": "stream",
          "name": "stdout",
          "text": [
            "         Date   Product     Category  Visits  Clicks  Conversions  \\\n",
            "0  2025-01-01  Laptop A  Electronics    1200     300           45   \n",
            "1  2025-01-01   Phone B       Mobile    2500     500           80   \n",
            "2  2025-01-02  Laptop A  Electronics    1100     280           40   \n",
            "3  2025-01-02   Phone B       Mobile    2600     520           85   \n",
            "\n",
            "   Revenue (£)  Marketing_Spend (£)  Conversion_Rate (%)    CTR (%)  \\\n",
            "0        31500                 2000             3.750000  25.000000   \n",
            "1        48000                 3500             3.200000  20.000000   \n",
            "2        28000                 1800             3.636364  25.454545   \n",
            "3        50000                 3600             3.269231  20.000000   \n",
            "\n",
            "        ROAS     AOV (£)  \n",
            "0  15.750000  700.000000  \n",
            "1  13.714286  600.000000  \n",
            "2  15.555556  700.000000  \n",
            "3  13.888889  588.235294  \n"
          ]
        }
      ]
    },
    {
      "cell_type": "markdown",
      "source": [
        "🔹 Step 3: Summarize Performance by Product"
      ],
      "metadata": {
        "id": "_WQQlyytv-EA"
      }
    },
    {
      "cell_type": "code",
      "source": [
        "# Group by Product and calculate averages\n",
        "summary = df.groupby('Product').agg({\n",
        "    'Visits':'sum',\n",
        "    'Clicks':'sum',\n",
        "    'Conversions':'sum',\n",
        "    'Revenue (£)':'sum',\n",
        "    'Marketing_Spend (£)':'sum',\n",
        "    'Conversion_Rate (%)':'mean',\n",
        "    'CTR (%)':'mean',\n",
        "    'ROAS':'mean',\n",
        "    'AOV (£)':'mean'\n",
        "}).reset_index()\n",
        "\n",
        "print(summary)"
      ],
      "metadata": {
        "colab": {
          "base_uri": "https://localhost:8080/"
        },
        "id": "LZwEMWXUv427",
        "outputId": "6ec6f0da-57f9-4c53-9758-fc4bfd4b88f8"
      },
      "execution_count": 12,
      "outputs": [
        {
          "output_type": "stream",
          "name": "stdout",
          "text": [
            "    Product  Visits  Clicks  Conversions  Revenue (£)  Marketing_Spend (£)  \\\n",
            "0  Laptop A    2300     580           85        59500                 3800   \n",
            "1   Phone B    5100    1020          165        98000                 7100   \n",
            "\n",
            "   Conversion_Rate (%)    CTR (%)       ROAS     AOV (£)  \n",
            "0             3.693182  25.227273  15.652778  700.000000  \n",
            "1             3.234615  20.000000  13.801587  594.117647  \n"
          ]
        }
      ]
    },
    {
      "cell_type": "markdown",
      "source": [
        "🔹 Step 4: Visualize Key Metrics"
      ],
      "metadata": {
        "id": "pAdgoQV2wMiD"
      }
    },
    {
      "cell_type": "code",
      "source": [
        "import matplotlib.pyplot as plt"
      ],
      "metadata": {
        "id": "fuWt8z-DwYdi"
      },
      "execution_count": 7,
      "outputs": []
    },
    {
      "cell_type": "code",
      "source": [
        "# Revenue over time\n",
        "plt.figure(figsize=(8,5))\n",
        "for product in df['Product'].unique():\n",
        "    product_data = df[df['Product']==product]\n",
        "    plt.plot(product_data['Date'], product_data['Revenue (£)'], marker='o', label=product)\n",
        "\n",
        "plt.title(\"Revenue over Time by Product\")\n",
        "plt.xlabel(\"Date\")\n",
        "plt.ylabel(\"Revenue (£)\")\n",
        "plt.legend()\n",
        "plt.xticks(rotation=45)\n",
        "plt.show()"
      ],
      "metadata": {
        "colab": {
          "base_uri": "https://localhost:8080/",
          "height": 540
        },
        "id": "nx05ZcWLwL_9",
        "outputId": "e4cb5d8c-7aec-4d53-b4b0-2baf908c031b"
      },
      "execution_count": 13,
      "outputs": [
        {
          "output_type": "display_data",
          "data": {
            "text/plain": [
              "<Figure size 800x500 with 1 Axes>"
            ],
            "image/png": "[encoded data removed]"
          },
          "metadata": {}
        }
      ]
    },
    {
      "cell_type": "code",
      "source": [
        "# ROAS by Product\n",
        "plt.figure(figsize=(6,4))\n",
        "plt.bar(summary['Product'], summary['ROAS'], color=['blue','green'])\n",
        "plt.title(\"ROAS by Product\")\n",
        "plt.ylabel(\"ROAS (Return on Ad Spend)\")\n",
        "plt.show()"
      ],
      "metadata": {
        "colab": {
          "base_uri": "https://localhost:8080/",
          "height": 391
        },
        "id": "9CQHj6cHwhBL",
        "outputId": "41a788d8-e384-40aa-da01-885e7c690b23"
      },
      "execution_count": 14,
      "outputs": [
        {
          "output_type": "display_data",
          "data": {
            "text/plain": [
              "<Figure size 600x400 with 1 Axes>"
            ],
            "image/png": "[encoded data removed]"
          },
          "metadata": {}
        }
      ]
    },
    {
      "cell_type": "markdown",
      "source": [
        "🔹 Step 5: Insights (What You’d Tell Stakeholders)\n",
        "* Phone B has higher ROAS (approximately 15.1) than Laptop A (~13.7) → better returns on ads.\n",
        "* Conversion Rate is slightly higher for Phone B (3.7% vs 3.2%).\n",
        "* Recommendation → Increase ad spend on Phone B, review Laptop A’s product page to improve conversions."
      ],
      "metadata": {
        "id": "7pVJgyniwsFF"
      }
    },
    {
      "cell_type": "markdown",
      "source": [
        "👉 This flow (loading → calculating KPIs → summarizing → visualizing → insights) directly mirrors the e-commerce performance analyst role."
      ],
      "metadata": {
        "id": "4SGKafGiyVLf"
      }
    }
  ]
}
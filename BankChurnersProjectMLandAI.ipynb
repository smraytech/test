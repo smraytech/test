{
  "cells": [
    {
      "cell_type": "markdown",
      "metadata": {
        "id": "view-in-github",
        "colab_type": "text"
      },
      "source": [
        "<a href=\"https://colab.research.google.com/github/smraytech/test/blob/main/BankChurnersProjectMLandAI.ipynb\" target=\"_parent\"><img src=\"https://colab.research.google.com/assets/colab-badge.svg\" alt=\"Open In Colab\"/></a>"
      ]
    },
    {
      "cell_type": "markdown",
      "source": [
        "# Problem statement"
      ],
      "metadata": {
        "id": "HiyzkLW_uF1W"
      }
    },
    {
      "cell_type": "markdown",
      "source": [
        "\n",
        "\n",
        "https://www.kaggle.com/datasets/sakshigoyal7/credit-card-customers\n",
        "Predict Churning customers\n",
        "This Dataset has attrited and existing customers.Bank management would like to know the attrited customers such that it can improve on service delivery.\n",
        "Analyse & get get out insights to help management improve on operational efficiciency & take vital dicisions hence retaining the attrited customers and realising profitibility."
      ],
      "metadata": {
        "id": "gL835sv7qQgw"
      }
    },
    {
      "cell_type": "code",
      "execution_count": null,
      "metadata": {
        "id": "G83TTb0X1amx"
      },
      "outputs": [],
      "source": [
        "import pandas as pd\n",
        "import numpy as np\n",
        "import sklearn.model_selection\n",
        "import sklearn.compose\n",
        "import sklearn.preprocessing\n",
        "import sklearn.svm\n",
        "from sklearn.svm import SVC\n",
        "import sklearn.tree\n",
        "import sklearn.neighbors\n",
        "from sklearn.compose import ColumnTransformer\n",
        "from sklearn.preprocessing import OneHotEncoder\n",
        "from sklearn.model_selection import GridSearchCV\n",
        "from sklearn.pipeline import Pipeline\n",
        "from sklearn.metrics import accuracy_score\n"
      ]
    },
    {
      "cell_type": "markdown",
      "source": [
        "*  I uploaded the BankChurners Dataset\n",
        "*   To make sure that all the columns are vissible i used this code\n",
        "pd.set_option('display.max_columns', None)\n",
        "\n"
      ],
      "metadata": {
        "id": "9z-NesoFg8Im"
      }
    },
    {
      "cell_type": "code",
      "execution_count": null,
      "metadata": {
        "id": "MJ2Qdqii1jod"
      },
      "outputs": [],
      "source": [
        "pd.set_option('display.max_columns', None)\n",
        "df_f = pd.read_csv(\"/content/BankChurners.csv\")\n"
      ]
    },
    {
      "cell_type": "markdown",
      "source": [
        "# Data Exploration"
      ],
      "metadata": {
        "id": "D7141vt5hVlS"
      }
    },
    {
      "cell_type": "markdown",
      "source": [
        "This method displays the first five columns,starting from index 0 to index 4"
      ],
      "metadata": {
        "id": "qmKKgoQxhxFQ"
      }
    },
    {
      "cell_type": "code",
      "execution_count": null,
      "metadata": {
        "colab": {
          "base_uri": "https://localhost:8080/",
          "height": 313
        },
        "id": "EVJaUGjW2une",
        "outputId": "9479b15e-6934-459f-ee74-1084a9108499"
      },
      "outputs": [
        {
          "output_type": "execute_result",
          "data": {
            "text/plain": [
              "   CLIENTNUM     Attrition_Flag  Customer_Age Gender  Dependent_count  \\\n",
              "0  768805383  Existing Customer            45      M                3   \n",
              "1  818770008  Existing Customer            49      F                5   \n",
              "2  713982108  Existing Customer            51      M                3   \n",
              "3  769911858  Existing Customer            40      F                4   \n",
              "4  709106358  Existing Customer            40      M                3   \n",
              "\n",
              "  Education_Level Marital_Status Income_Category Card_Category  \\\n",
              "0     High School        Married     $60K - $80K          Blue   \n",
              "1        Graduate         Single  Less than $40K          Blue   \n",
              "2        Graduate        Married    $80K - $120K          Blue   \n",
              "3     High School        Unknown  Less than $40K          Blue   \n",
              "4      Uneducated        Married     $60K - $80K          Blue   \n",
              "\n",
              "   Months_on_book  Total_Relationship_Count  Months_Inactive_12_mon  \\\n",
              "0              39                         5                       1   \n",
              "1              44                         6                       1   \n",
              "2              36                         4                       1   \n",
              "3              34                         3                       4   \n",
              "4              21                         5                       1   \n",
              "\n",
              "   Contacts_Count_12_mon  Credit_Limit  Total_Revolving_Bal  Avg_Open_To_Buy  \\\n",
              "0                      3       12691.0                  777          11914.0   \n",
              "1                      2        8256.0                  864           7392.0   \n",
              "2                      0        3418.0                    0           3418.0   \n",
              "3                      1        3313.0                 2517            796.0   \n",
              "4                      0        4716.0                    0           4716.0   \n",
              "\n",
              "   Total_Amt_Chng_Q4_Q1  Total_Trans_Amt  Total_Trans_Ct  Total_Ct_Chng_Q4_Q1  \\\n",
              "0                 1.335             1144              42                1.625   \n",
              "1                 1.541             1291              33                3.714   \n",
              "2                 2.594             1887              20                2.333   \n",
              "3                 1.405             1171              20                2.333   \n",
              "4                 2.175              816              28                2.500   \n",
              "\n",
              "   Avg_Utilization_Ratio  \\\n",
              "0                  0.061   \n",
              "1                  0.105   \n",
              "2                  0.000   \n",
              "3                  0.760   \n",
              "4                  0.000   \n",
              "\n",
              "   Naive_Bayes_Classifier_Attrition_Flag_Card_Category_Contacts_Count_12_mon_Dependent_count_Education_Level_Months_Inactive_12_mon_1  \\\n",
              "0                                           0.000093                                                                                    \n",
              "1                                           0.000057                                                                                    \n",
              "2                                           0.000021                                                                                    \n",
              "3                                           0.000134                                                                                    \n",
              "4                                           0.000022                                                                                    \n",
              "\n",
              "   Naive_Bayes_Classifier_Attrition_Flag_Card_Category_Contacts_Count_12_mon_Dependent_count_Education_Level_Months_Inactive_12_mon_2  \n",
              "0                                            0.99991                                                                                   \n",
              "1                                            0.99994                                                                                   \n",
              "2                                            0.99998                                                                                   \n",
              "3                                            0.99987                                                                                   \n",
              "4                                            0.99998                                                                                   "
            ],
            "text/html": [
              "\n",
              "  <div id=\"df-59d0b4ce-16ee-41ea-b074-3c47f7c91ad4\" class=\"colab-df-container\">\n",
              "    <div>\n",
              "<style scoped>\n",
              "    .dataframe tbody tr th:only-of-type {\n",
              "        vertical-align: middle;\n",
              "    }\n",
              "\n",
              "    .dataframe tbody tr th {\n",
              "        vertical-align: top;\n",
              "    }\n",
              "\n",
              "    .dataframe thead th {\n",
              "        text-align: right;\n",
              "    }\n",
              "</style>\n",
              "<table border=\"1\" class=\"dataframe\">\n",
              "  <thead>\n",
              "    <tr style=\"text-align: right;\">\n",
              "      <th></th>\n",
              "      <th>CLIENTNUM</th>\n",
              "      <th>Attrition_Flag</th>\n",
              "      <th>Customer_Age</th>\n",
              "      <th>Gender</th>\n",
              "      <th>Dependent_count</th>\n",
              "      <th>Education_Level</th>\n",
              "      <th>Marital_Status</th>\n",
              "      <th>Income_Category</th>\n",
              "      <th>Card_Category</th>\n",
              "      <th>Months_on_book</th>\n",
              "      <th>Total_Relationship_Count</th>\n",
              "      <th>Months_Inactive_12_mon</th>\n",
              "      <th>Contacts_Count_12_mon</th>\n",
              "      <th>Credit_Limit</th>\n",
              "      <th>Total_Revolving_Bal</th>\n",
              "      <th>Avg_Open_To_Buy</th>\n",
              "      <th>Total_Amt_Chng_Q4_Q1</th>\n",
              "      <th>Total_Trans_Amt</th>\n",
              "      <th>Total_Trans_Ct</th>\n",
              "      <th>Total_Ct_Chng_Q4_Q1</th>\n",
              "      <th>Avg_Utilization_Ratio</th>\n",
              "      <th>Naive_Bayes_Classifier_Attrition_Flag_Card_Category_Contacts_Count_12_mon_Dependent_count_Education_Level_Months_Inactive_12_mon_1</th>\n",
              "      <th>Naive_Bayes_Classifier_Attrition_Flag_Card_Category_Contacts_Count_12_mon_Dependent_count_Education_Level_Months_Inactive_12_mon_2</th>\n",
              "    </tr>\n",
              "  </thead>\n",
              "  <tbody>\n",
              "    <tr>\n",
              "      <th>0</th>\n",
              "      <td>768805383</td>\n",
              "      <td>Existing Customer</td>\n",
              "      <td>45</td>\n",
              "      <td>M</td>\n",
              "      <td>3</td>\n",
              "      <td>High School</td>\n",
              "      <td>Married</td>\n",
              "      <td>$60K - $80K</td>\n",
              "      <td>Blue</td>\n",
              "      <td>39</td>\n",
              "      <td>5</td>\n",
              "      <td>1</td>\n",
              "      <td>3</td>\n",
              "      <td>12691.0</td>\n",
              "      <td>777</td>\n",
              "      <td>11914.0</td>\n",
              "      <td>1.335</td>\n",
              "      <td>1144</td>\n",
              "      <td>42</td>\n",
              "      <td>1.625</td>\n",
              "      <td>0.061</td>\n",
              "      <td>0.000093</td>\n",
              "      <td>0.99991</td>\n",
              "    </tr>\n",
              "    <tr>\n",
              "      <th>1</th>\n",
              "      <td>818770008</td>\n",
              "      <td>Existing Customer</td>\n",
              "      <td>49</td>\n",
              "      <td>F</td>\n",
              "      <td>5</td>\n",
              "      <td>Graduate</td>\n",
              "      <td>Single</td>\n",
              "      <td>Less than $40K</td>\n",
              "      <td>Blue</td>\n",
              "      <td>44</td>\n",
              "      <td>6</td>\n",
              "      <td>1</td>\n",
              "      <td>2</td>\n",
              "      <td>8256.0</td>\n",
              "      <td>864</td>\n",
              "      <td>7392.0</td>\n",
              "      <td>1.541</td>\n",
              "      <td>1291</td>\n",
              "      <td>33</td>\n",
              "      <td>3.714</td>\n",
              "      <td>0.105</td>\n",
              "      <td>0.000057</td>\n",
              "      <td>0.99994</td>\n",
              "    </tr>\n",
              "    <tr>\n",
              "      <th>2</th>\n",
              "      <td>713982108</td>\n",
              "      <td>Existing Customer</td>\n",
              "      <td>51</td>\n",
              "      <td>M</td>\n",
              "      <td>3</td>\n",
              "      <td>Graduate</td>\n",
              "      <td>Married</td>\n",
              "      <td>$80K - $120K</td>\n",
              "      <td>Blue</td>\n",
              "      <td>36</td>\n",
              "      <td>4</td>\n",
              "      <td>1</td>\n",
              "      <td>0</td>\n",
              "      <td>3418.0</td>\n",
              "      <td>0</td>\n",
              "      <td>3418.0</td>\n",
              "      <td>2.594</td>\n",
              "      <td>1887</td>\n",
              "      <td>20</td>\n",
              "      <td>2.333</td>\n",
              "      <td>0.000</td>\n",
              "      <td>0.000021</td>\n",
              "      <td>0.99998</td>\n",
              "    </tr>\n",
              "    <tr>\n",
              "      <th>3</th>\n",
              "      <td>769911858</td>\n",
              "      <td>Existing Customer</td>\n",
              "      <td>40</td>\n",
              "      <td>F</td>\n",
              "      <td>4</td>\n",
              "      <td>High School</td>\n",
              "      <td>Unknown</td>\n",
              "      <td>Less than $40K</td>\n",
              "      <td>Blue</td>\n",
              "      <td>34</td>\n",
              "      <td>3</td>\n",
              "      <td>4</td>\n",
              "      <td>1</td>\n",
              "      <td>3313.0</td>\n",
              "      <td>2517</td>\n",
              "      <td>796.0</td>\n",
              "      <td>1.405</td>\n",
              "      <td>1171</td>\n",
              "      <td>20</td>\n",
              "      <td>2.333</td>\n",
              "      <td>0.760</td>\n",
              "      <td>0.000134</td>\n",
              "      <td>0.99987</td>\n",
              "    </tr>\n",
              "    <tr>\n",
              "      <th>4</th>\n",
              "      <td>709106358</td>\n",
              "      <td>Existing Customer</td>\n",
              "      <td>40</td>\n",
              "      <td>M</td>\n",
              "      <td>3</td>\n",
              "      <td>Uneducated</td>\n",
              "      <td>Married</td>\n",
              "      <td>$60K - $80K</td>\n",
              "      <td>Blue</td>\n",
              "      <td>21</td>\n",
              "      <td>5</td>\n",
              "      <td>1</td>\n",
              "      <td>0</td>\n",
              "      <td>4716.0</td>\n",
              "      <td>0</td>\n",
              "      <td>4716.0</td>\n",
              "      <td>2.175</td>\n",
              "      <td>816</td>\n",
              "      <td>28</td>\n",
              "      <td>2.500</td>\n",
              "      <td>0.000</td>\n",
              "      <td>0.000022</td>\n",
              "      <td>0.99998</td>\n",
              "    </tr>\n",
              "  </tbody>\n",
              "</table>\n",
              "</div>\n",
              "    <div class=\"colab-df-buttons\">\n",
              "\n",
              "  <div class=\"colab-df-container\">\n",
              "    <button class=\"colab-df-convert\" onclick=\"convertToInteractive('df-59d0b4ce-16ee-41ea-b074-3c47f7c91ad4')\"\n",
              "            title=\"Convert this dataframe to an interactive table.\"\n",
              "            style=\"display:none;\">\n",
              "\n",
              "  <svg xmlns=\"http://www.w3.org/2000/svg\" height=\"24px\" viewBox=\"0 -960 960 960\">\n",
              "    <path d=\"M120-120v-720h720v720H120Zm60-500h600v-160H180v160Zm220 220h160v-160H400v160Zm0 220h160v-160H400v160ZM180-400h160v-160H180v160Zm440 0h160v-160H620v160ZM180-180h160v-160H180v160Zm440 0h160v-160H620v160Z\"/>\n",
              "  </svg>\n",
              "    </button>\n",
              "\n",
              "  <style>\n",
              "    .colab-df-container {\n",
              "      display:flex;\n",
              "      gap: 12px;\n",
              "    }\n",
              "\n",
              "    .colab-df-convert {\n",
              "      background-color: #E8F0FE;\n",
              "      border: none;\n",
              "      border-radius: 50%;\n",
              "      cursor: pointer;\n",
              "      display: none;\n",
              "      fill: #1967D2;\n",
              "      height: 32px;\n",
              "      padding: 0 0 0 0;\n",
              "      width: 32px;\n",
              "    }\n",
              "\n",
              "    .colab-df-convert:hover {\n",
              "      background-color: #E2EBFA;\n",
              "      box-shadow: 0px 1px 2px rgba(60, 64, 67, 0.3), 0px 1px 3px 1px rgba(60, 64, 67, 0.15);\n",
              "      fill: #174EA6;\n",
              "    }\n",
              "\n",
              "    .colab-df-buttons div {\n",
              "      margin-bottom: 4px;\n",
              "    }\n",
              "\n",
              "    [theme=dark] .colab-df-convert {\n",
              "      background-color: #3B4455;\n",
              "      fill: #D2E3FC;\n",
              "    }\n",
              "\n",
              "    [theme=dark] .colab-df-convert:hover {\n",
              "      background-color: #434B5C;\n",
              "      box-shadow: 0px 1px 3px 1px rgba(0, 0, 0, 0.15);\n",
              "      filter: drop-shadow(0px 1px 2px rgba(0, 0, 0, 0.3));\n",
              "      fill: #FFFFFF;\n",
              "    }\n",
              "  </style>\n",
              "\n",
              "    <script>\n",
              "      const buttonEl =\n",
              "        document.querySelector('#df-59d0b4ce-16ee-41ea-b074-3c47f7c91ad4 button.colab-df-convert');\n",
              "      buttonEl.style.display =\n",
              "        google.colab.kernel.accessAllowed ? 'block' : 'none';\n",
              "\n",
              "      async function convertToInteractive(key) {\n",
              "        const element = document.querySelector('#df-59d0b4ce-16ee-41ea-b074-3c47f7c91ad4');\n",
              "        const dataTable =\n",
              "          await google.colab.kernel.invokeFunction('convertToInteractive',\n",
              "                                                    [key], {});\n",
              "        if (!dataTable) return;\n",
              "\n",
              "        const docLinkHtml = 'Like what you see? Visit the ' +\n",
              "          '<a target=\"_blank\" href=https://colab.research.google.com/notebooks/data_table.ipynb>data table notebook</a>'\n",
              "          + ' to learn more about interactive tables.';\n",
              "        element.innerHTML = '';\n",
              "        dataTable['output_type'] = 'display_data';\n",
              "        await google.colab.output.renderOutput(dataTable, element);\n",
              "        const docLink = document.createElement('div');\n",
              "        docLink.innerHTML = docLinkHtml;\n",
              "        element.appendChild(docLink);\n",
              "      }\n",
              "    </script>\n",
              "  </div>\n",
              "\n",
              "\n",
              "<div id=\"df-ac14a946-d58a-4ceb-9ee4-0ba84c49b6d0\">\n",
              "  <button class=\"colab-df-quickchart\" onclick=\"quickchart('df-ac14a946-d58a-4ceb-9ee4-0ba84c49b6d0')\"\n",
              "            title=\"Suggest charts\"\n",
              "            style=\"display:none;\">\n",
              "\n",
              "<svg xmlns=\"http://www.w3.org/2000/svg\" height=\"24px\"viewBox=\"0 0 24 24\"\n",
              "     width=\"24px\">\n",
              "    <g>\n",
              "        <path d=\"M19 3H5c-1.1 0-2 .9-2 2v14c0 1.1.9 2 2 2h14c1.1 0 2-.9 2-2V5c0-1.1-.9-2-2-2zM9 17H7v-7h2v7zm4 0h-2V7h2v10zm4 0h-2v-4h2v4z\"/>\n",
              "    </g>\n",
              "</svg>\n",
              "  </button>\n",
              "\n",
              "<style>\n",
              "  .colab-df-quickchart {\n",
              "      --bg-color: #E8F0FE;\n",
              "      --fill-color: #1967D2;\n",
              "      --hover-bg-color: #E2EBFA;\n",
              "      --hover-fill-color: #174EA6;\n",
              "      --disabled-fill-color: #AAA;\n",
              "      --disabled-bg-color: #DDD;\n",
              "  }\n",
              "\n",
              "  [theme=dark] .colab-df-quickchart {\n",
              "      --bg-color: #3B4455;\n",
              "      --fill-color: #D2E3FC;\n",
              "      --hover-bg-color: #434B5C;\n",
              "      --hover-fill-color: #FFFFFF;\n",
              "      --disabled-bg-color: #3B4455;\n",
              "      --disabled-fill-color: #666;\n",
              "  }\n",
              "\n",
              "  .colab-df-quickchart {\n",
              "    background-color: var(--bg-color);\n",
              "    border: none;\n",
              "    border-radius: 50%;\n",
              "    cursor: pointer;\n",
              "    display: none;\n",
              "    fill: var(--fill-color);\n",
              "    height: 32px;\n",
              "    padding: 0;\n",
              "    width: 32px;\n",
              "  }\n",
              "\n",
              "  .colab-df-quickchart:hover {\n",
              "    background-color: var(--hover-bg-color);\n",
              "    box-shadow: 0 1px 2px rgba(60, 64, 67, 0.3), 0 1px 3px 1px rgba(60, 64, 67, 0.15);\n",
              "    fill: var(--button-hover-fill-color);\n",
              "  }\n",
              "\n",
              "  .colab-df-quickchart-complete:disabled,\n",
              "  .colab-df-quickchart-complete:disabled:hover {\n",
              "    background-color: var(--disabled-bg-color);\n",
              "    fill: var(--disabled-fill-color);\n",
              "    box-shadow: none;\n",
              "  }\n",
              "\n",
              "  .colab-df-spinner {\n",
              "    border: 2px solid var(--fill-color);\n",
              "    border-color: transparent;\n",
              "    border-bottom-color: var(--fill-color);\n",
              "    animation:\n",
              "      spin 1s steps(1) infinite;\n",
              "  }\n",
              "\n",
              "  @keyframes spin {\n",
              "    0% {\n",
              "      border-color: transparent;\n",
              "      border-bottom-color: var(--fill-color);\n",
              "      border-left-color: var(--fill-color);\n",
              "    }\n",
              "    20% {\n",
              "      border-color: transparent;\n",
              "      border-left-color: var(--fill-color);\n",
              "      border-top-color: var(--fill-color);\n",
              "    }\n",
              "    30% {\n",
              "      border-color: transparent;\n",
              "      border-left-color: var(--fill-color);\n",
              "      border-top-color: var(--fill-color);\n",
              "      border-right-color: var(--fill-color);\n",
              "    }\n",
              "    40% {\n",
              "      border-color: transparent;\n",
              "      border-right-color: var(--fill-color);\n",
              "      border-top-color: var(--fill-color);\n",
              "    }\n",
              "    60% {\n",
              "      border-color: transparent;\n",
              "      border-right-color: var(--fill-color);\n",
              "    }\n",
              "    80% {\n",
              "      border-color: transparent;\n",
              "      border-right-color: var(--fill-color);\n",
              "      border-bottom-color: var(--fill-color);\n",
              "    }\n",
              "    90% {\n",
              "      border-color: transparent;\n",
              "      border-bottom-color: var(--fill-color);\n",
              "    }\n",
              "  }\n",
              "</style>\n",
              "\n",
              "  <script>\n",
              "    async function quickchart(key) {\n",
              "      const quickchartButtonEl =\n",
              "        document.querySelector('#' + key + ' button');\n",
              "      quickchartButtonEl.disabled = true;  // To prevent multiple clicks.\n",
              "      quickchartButtonEl.classList.add('colab-df-spinner');\n",
              "      try {\n",
              "        const charts = await google.colab.kernel.invokeFunction(\n",
              "            'suggestCharts', [key], {});\n",
              "      } catch (error) {\n",
              "        console.error('Error during call to suggestCharts:', error);\n",
              "      }\n",
              "      quickchartButtonEl.classList.remove('colab-df-spinner');\n",
              "      quickchartButtonEl.classList.add('colab-df-quickchart-complete');\n",
              "    }\n",
              "    (() => {\n",
              "      let quickchartButtonEl =\n",
              "        document.querySelector('#df-ac14a946-d58a-4ceb-9ee4-0ba84c49b6d0 button');\n",
              "      quickchartButtonEl.style.display =\n",
              "        google.colab.kernel.accessAllowed ? 'block' : 'none';\n",
              "    })();\n",
              "  </script>\n",
              "</div>\n",
              "    </div>\n",
              "  </div>\n"
            ],
            "application/vnd.google.colaboratory.intrinsic+json": {
              "type": "dataframe",
              "variable_name": "df_f"
            }
          },
          "metadata": {},
          "execution_count": 15
        }
      ],
      "source": [
        "df_f.head()"
      ]
    },
    {
      "cell_type": "markdown",
      "source": [
        "Displaying the summary of either null or not null values"
      ],
      "metadata": {
        "id": "bK-FVlP5iyDn"
      }
    },
    {
      "cell_type": "code",
      "execution_count": null,
      "metadata": {
        "colab": {
          "base_uri": "https://localhost:8080/"
        },
        "id": "IkmKuWWR3hMj",
        "outputId": "e0df7a3d-4e8f-410c-ca68-b3470951c8e9"
      },
      "outputs": [
        {
          "output_type": "execute_result",
          "data": {
            "text/plain": [
              "CLIENTNUM                                                                                                                             0\n",
              "Attrition_Flag                                                                                                                        0\n",
              "Customer_Age                                                                                                                          0\n",
              "Gender                                                                                                                                0\n",
              "Dependent_count                                                                                                                       0\n",
              "Education_Level                                                                                                                       0\n",
              "Marital_Status                                                                                                                        0\n",
              "Income_Category                                                                                                                       0\n",
              "Card_Category                                                                                                                         0\n",
              "Months_on_book                                                                                                                        0\n",
              "Total_Relationship_Count                                                                                                              0\n",
              "Months_Inactive_12_mon                                                                                                                0\n",
              "Contacts_Count_12_mon                                                                                                                 0\n",
              "Credit_Limit                                                                                                                          0\n",
              "Total_Revolving_Bal                                                                                                                   0\n",
              "Avg_Open_To_Buy                                                                                                                       0\n",
              "Total_Amt_Chng_Q4_Q1                                                                                                                  0\n",
              "Total_Trans_Amt                                                                                                                       0\n",
              "Total_Trans_Ct                                                                                                                        0\n",
              "Total_Ct_Chng_Q4_Q1                                                                                                                   0\n",
              "Avg_Utilization_Ratio                                                                                                                 0\n",
              "Naive_Bayes_Classifier_Attrition_Flag_Card_Category_Contacts_Count_12_mon_Dependent_count_Education_Level_Months_Inactive_12_mon_1    0\n",
              "Naive_Bayes_Classifier_Attrition_Flag_Card_Category_Contacts_Count_12_mon_Dependent_count_Education_Level_Months_Inactive_12_mon_2    0\n",
              "dtype: int64"
            ]
          },
          "metadata": {},
          "execution_count": 16
        }
      ],
      "source": [
        "df_f.isnull().sum()"
      ]
    },
    {
      "cell_type": "markdown",
      "source": [
        "Displaying the different Data types,we can see that our dataset has int64,float64, and object."
      ],
      "metadata": {
        "id": "McFWXJq5hesv"
      }
    },
    {
      "cell_type": "code",
      "execution_count": null,
      "metadata": {
        "colab": {
          "base_uri": "https://localhost:8080/"
        },
        "id": "hZdWZRVO41lt",
        "outputId": "362149c9-0be0-4736-aa02-43aa545ce4d6"
      },
      "outputs": [
        {
          "output_type": "execute_result",
          "data": {
            "text/plain": [
              "CLIENTNUM                                                                                                                               int64\n",
              "Attrition_Flag                                                                                                                         object\n",
              "Customer_Age                                                                                                                            int64\n",
              "Gender                                                                                                                                 object\n",
              "Dependent_count                                                                                                                         int64\n",
              "Education_Level                                                                                                                        object\n",
              "Marital_Status                                                                                                                         object\n",
              "Income_Category                                                                                                                        object\n",
              "Card_Category                                                                                                                          object\n",
              "Months_on_book                                                                                                                          int64\n",
              "Total_Relationship_Count                                                                                                                int64\n",
              "Months_Inactive_12_mon                                                                                                                  int64\n",
              "Contacts_Count_12_mon                                                                                                                   int64\n",
              "Credit_Limit                                                                                                                          float64\n",
              "Total_Revolving_Bal                                                                                                                     int64\n",
              "Avg_Open_To_Buy                                                                                                                       float64\n",
              "Total_Amt_Chng_Q4_Q1                                                                                                                  float64\n",
              "Total_Trans_Amt                                                                                                                         int64\n",
              "Total_Trans_Ct                                                                                                                          int64\n",
              "Total_Ct_Chng_Q4_Q1                                                                                                                   float64\n",
              "Avg_Utilization_Ratio                                                                                                                 float64\n",
              "Naive_Bayes_Classifier_Attrition_Flag_Card_Category_Contacts_Count_12_mon_Dependent_count_Education_Level_Months_Inactive_12_mon_1    float64\n",
              "Naive_Bayes_Classifier_Attrition_Flag_Card_Category_Contacts_Count_12_mon_Dependent_count_Education_Level_Months_Inactive_12_mon_2    float64\n",
              "dtype: object"
            ]
          },
          "metadata": {},
          "execution_count": 17
        }
      ],
      "source": [
        "df_f.dtypes"
      ]
    },
    {
      "cell_type": "markdown",
      "source": [
        "Therefore the unique() method returns Existing Customer and Attrited Customer."
      ],
      "metadata": {
        "id": "NIfVFwCc7n92"
      }
    },
    {
      "cell_type": "code",
      "execution_count": null,
      "metadata": {
        "colab": {
          "base_uri": "https://localhost:8080/"
        },
        "id": "xELt3Ai__Aps",
        "outputId": "0f8d2d17-ade1-484c-c99b-c616f93bbb9c"
      },
      "outputs": [
        {
          "output_type": "execute_result",
          "data": {
            "text/plain": [
              "array(['Existing Customer', 'Attrited Customer'], dtype=object)"
            ]
          },
          "metadata": {},
          "execution_count": 18
        }
      ],
      "source": [
        "df_f['Attrition_Flag'].unique()"
      ]
    },
    {
      "cell_type": "code",
      "execution_count": null,
      "metadata": {
        "colab": {
          "base_uri": "https://localhost:8080/",
          "height": 313
        },
        "id": "25IqYW8j73vl",
        "outputId": "df39ac0e-f0b4-4faf-93cb-26fbfa4b6042"
      },
      "outputs": [
        {
          "output_type": "execute_result",
          "data": {
            "text/plain": [
              "    CLIENTNUM     Attrition_Flag  Customer_Age Gender  Dependent_count  \\\n",
              "21  708508758  Attrited Customer            62      F                0   \n",
              "39  708300483  Attrited Customer            66      F                0   \n",
              "51  779471883  Attrited Customer            54      F                1   \n",
              "54  714374133  Attrited Customer            56      M                2   \n",
              "61  712030833  Attrited Customer            48      M                2   \n",
              "\n",
              "   Education_Level Marital_Status Income_Category Card_Category  \\\n",
              "21        Graduate        Married  Less than $40K          Blue   \n",
              "39       Doctorate        Married         Unknown          Blue   \n",
              "51        Graduate        Married  Less than $40K          Blue   \n",
              "54        Graduate        Married         $120K +          Blue   \n",
              "61        Graduate        Married     $60K - $80K        Silver   \n",
              "\n",
              "    Months_on_book  Total_Relationship_Count  Months_Inactive_12_mon  \\\n",
              "21              49                         2                       3   \n",
              "39              56                         5                       4   \n",
              "51              40                         2                       3   \n",
              "54              36                         1                       3   \n",
              "61              35                         2                       4   \n",
              "\n",
              "    Contacts_Count_12_mon  Credit_Limit  Total_Revolving_Bal  Avg_Open_To_Buy  \\\n",
              "21                      3        1438.3                    0           1438.3   \n",
              "39                      3        7882.0                  605           7277.0   \n",
              "51                      1        1438.3                  808            630.3   \n",
              "54                      3       15769.0                    0          15769.0   \n",
              "61                      4       34516.0                    0          34516.0   \n",
              "\n",
              "    Total_Amt_Chng_Q4_Q1  Total_Trans_Amt  Total_Trans_Ct  \\\n",
              "21                 1.047              692              16   \n",
              "39                 1.052              704              16   \n",
              "51                 0.997              705              19   \n",
              "54                 1.041              602              15   \n",
              "61                 0.763              691              15   \n",
              "\n",
              "    Total_Ct_Chng_Q4_Q1  Avg_Utilization_Ratio  \\\n",
              "21                0.600                  0.000   \n",
              "39                0.143                  0.077   \n",
              "51                0.900                  0.562   \n",
              "54                0.364                  0.000   \n",
              "61                0.500                  0.000   \n",
              "\n",
              "    Naive_Bayes_Classifier_Attrition_Flag_Card_Category_Contacts_Count_12_mon_Dependent_count_Education_Level_Months_Inactive_12_mon_1  \\\n",
              "21                                            0.99616                                                                                    \n",
              "39                                            0.99780                                                                                    \n",
              "51                                            0.99028                                                                                    \n",
              "54                                            0.99671                                                                                    \n",
              "61                                            0.99823                                                                                    \n",
              "\n",
              "    Naive_Bayes_Classifier_Attrition_Flag_Card_Category_Contacts_Count_12_mon_Dependent_count_Education_Level_Months_Inactive_12_mon_2  \n",
              "21                                           0.003836                                                                                   \n",
              "39                                           0.002197                                                                                   \n",
              "51                                           0.009720                                                                                   \n",
              "54                                           0.003294                                                                                   \n",
              "61                                           0.001771                                                                                   "
            ],
            "text/html": [
              "\n",
              "  <div id=\"df-56647048-5bf4-4a7d-9766-ab32549ca347\" class=\"colab-df-container\">\n",
              "    <div>\n",
              "<style scoped>\n",
              "    .dataframe tbody tr th:only-of-type {\n",
              "        vertical-align: middle;\n",
              "    }\n",
              "\n",
              "    .dataframe tbody tr th {\n",
              "        vertical-align: top;\n",
              "    }\n",
              "\n",
              "    .dataframe thead th {\n",
              "        text-align: right;\n",
              "    }\n",
              "</style>\n",
              "<table border=\"1\" class=\"dataframe\">\n",
              "  <thead>\n",
              "    <tr style=\"text-align: right;\">\n",
              "      <th></th>\n",
              "      <th>CLIENTNUM</th>\n",
              "      <th>Attrition_Flag</th>\n",
              "      <th>Customer_Age</th>\n",
              "      <th>Gender</th>\n",
              "      <th>Dependent_count</th>\n",
              "      <th>Education_Level</th>\n",
              "      <th>Marital_Status</th>\n",
              "      <th>Income_Category</th>\n",
              "      <th>Card_Category</th>\n",
              "      <th>Months_on_book</th>\n",
              "      <th>Total_Relationship_Count</th>\n",
              "      <th>Months_Inactive_12_mon</th>\n",
              "      <th>Contacts_Count_12_mon</th>\n",
              "      <th>Credit_Limit</th>\n",
              "      <th>Total_Revolving_Bal</th>\n",
              "      <th>Avg_Open_To_Buy</th>\n",
              "      <th>Total_Amt_Chng_Q4_Q1</th>\n",
              "      <th>Total_Trans_Amt</th>\n",
              "      <th>Total_Trans_Ct</th>\n",
              "      <th>Total_Ct_Chng_Q4_Q1</th>\n",
              "      <th>Avg_Utilization_Ratio</th>\n",
              "      <th>Naive_Bayes_Classifier_Attrition_Flag_Card_Category_Contacts_Count_12_mon_Dependent_count_Education_Level_Months_Inactive_12_mon_1</th>\n",
              "      <th>Naive_Bayes_Classifier_Attrition_Flag_Card_Category_Contacts_Count_12_mon_Dependent_count_Education_Level_Months_Inactive_12_mon_2</th>\n",
              "    </tr>\n",
              "  </thead>\n",
              "  <tbody>\n",
              "    <tr>\n",
              "      <th>21</th>\n",
              "      <td>708508758</td>\n",
              "      <td>Attrited Customer</td>\n",
              "      <td>62</td>\n",
              "      <td>F</td>\n",
              "      <td>0</td>\n",
              "      <td>Graduate</td>\n",
              "      <td>Married</td>\n",
              "      <td>Less than $40K</td>\n",
              "      <td>Blue</td>\n",
              "      <td>49</td>\n",
              "      <td>2</td>\n",
              "      <td>3</td>\n",
              "      <td>3</td>\n",
              "      <td>1438.3</td>\n",
              "      <td>0</td>\n",
              "      <td>1438.3</td>\n",
              "      <td>1.047</td>\n",
              "      <td>692</td>\n",
              "      <td>16</td>\n",
              "      <td>0.600</td>\n",
              "      <td>0.000</td>\n",
              "      <td>0.99616</td>\n",
              "      <td>0.003836</td>\n",
              "    </tr>\n",
              "    <tr>\n",
              "      <th>39</th>\n",
              "      <td>708300483</td>\n",
              "      <td>Attrited Customer</td>\n",
              "      <td>66</td>\n",
              "      <td>F</td>\n",
              "      <td>0</td>\n",
              "      <td>Doctorate</td>\n",
              "      <td>Married</td>\n",
              "      <td>Unknown</td>\n",
              "      <td>Blue</td>\n",
              "      <td>56</td>\n",
              "      <td>5</td>\n",
              "      <td>4</td>\n",
              "      <td>3</td>\n",
              "      <td>7882.0</td>\n",
              "      <td>605</td>\n",
              "      <td>7277.0</td>\n",
              "      <td>1.052</td>\n",
              "      <td>704</td>\n",
              "      <td>16</td>\n",
              "      <td>0.143</td>\n",
              "      <td>0.077</td>\n",
              "      <td>0.99780</td>\n",
              "      <td>0.002197</td>\n",
              "    </tr>\n",
              "    <tr>\n",
              "      <th>51</th>\n",
              "      <td>779471883</td>\n",
              "      <td>Attrited Customer</td>\n",
              "      <td>54</td>\n",
              "      <td>F</td>\n",
              "      <td>1</td>\n",
              "      <td>Graduate</td>\n",
              "      <td>Married</td>\n",
              "      <td>Less than $40K</td>\n",
              "      <td>Blue</td>\n",
              "      <td>40</td>\n",
              "      <td>2</td>\n",
              "      <td>3</td>\n",
              "      <td>1</td>\n",
              "      <td>1438.3</td>\n",
              "      <td>808</td>\n",
              "      <td>630.3</td>\n",
              "      <td>0.997</td>\n",
              "      <td>705</td>\n",
              "      <td>19</td>\n",
              "      <td>0.900</td>\n",
              "      <td>0.562</td>\n",
              "      <td>0.99028</td>\n",
              "      <td>0.009720</td>\n",
              "    </tr>\n",
              "    <tr>\n",
              "      <th>54</th>\n",
              "      <td>714374133</td>\n",
              "      <td>Attrited Customer</td>\n",
              "      <td>56</td>\n",
              "      <td>M</td>\n",
              "      <td>2</td>\n",
              "      <td>Graduate</td>\n",
              "      <td>Married</td>\n",
              "      <td>$120K +</td>\n",
              "      <td>Blue</td>\n",
              "      <td>36</td>\n",
              "      <td>1</td>\n",
              "      <td>3</td>\n",
              "      <td>3</td>\n",
              "      <td>15769.0</td>\n",
              "      <td>0</td>\n",
              "      <td>15769.0</td>\n",
              "      <td>1.041</td>\n",
              "      <td>602</td>\n",
              "      <td>15</td>\n",
              "      <td>0.364</td>\n",
              "      <td>0.000</td>\n",
              "      <td>0.99671</td>\n",
              "      <td>0.003294</td>\n",
              "    </tr>\n",
              "    <tr>\n",
              "      <th>61</th>\n",
              "      <td>712030833</td>\n",
              "      <td>Attrited Customer</td>\n",
              "      <td>48</td>\n",
              "      <td>M</td>\n",
              "      <td>2</td>\n",
              "      <td>Graduate</td>\n",
              "      <td>Married</td>\n",
              "      <td>$60K - $80K</td>\n",
              "      <td>Silver</td>\n",
              "      <td>35</td>\n",
              "      <td>2</td>\n",
              "      <td>4</td>\n",
              "      <td>4</td>\n",
              "      <td>34516.0</td>\n",
              "      <td>0</td>\n",
              "      <td>34516.0</td>\n",
              "      <td>0.763</td>\n",
              "      <td>691</td>\n",
              "      <td>15</td>\n",
              "      <td>0.500</td>\n",
              "      <td>0.000</td>\n",
              "      <td>0.99823</td>\n",
              "      <td>0.001771</td>\n",
              "    </tr>\n",
              "  </tbody>\n",
              "</table>\n",
              "</div>\n",
              "    <div class=\"colab-df-buttons\">\n",
              "\n",
              "  <div class=\"colab-df-container\">\n",
              "    <button class=\"colab-df-convert\" onclick=\"convertToInteractive('df-56647048-5bf4-4a7d-9766-ab32549ca347')\"\n",
              "            title=\"Convert this dataframe to an interactive table.\"\n",
              "            style=\"display:none;\">\n",
              "\n",
              "  <svg xmlns=\"http://www.w3.org/2000/svg\" height=\"24px\" viewBox=\"0 -960 960 960\">\n",
              "    <path d=\"M120-120v-720h720v720H120Zm60-500h600v-160H180v160Zm220 220h160v-160H400v160Zm0 220h160v-160H400v160ZM180-400h160v-160H180v160Zm440 0h160v-160H620v160ZM180-180h160v-160H180v160Zm440 0h160v-160H620v160Z\"/>\n",
              "  </svg>\n",
              "    </button>\n",
              "\n",
              "  <style>\n",
              "    .colab-df-container {\n",
              "      display:flex;\n",
              "      gap: 12px;\n",
              "    }\n",
              "\n",
              "    .colab-df-convert {\n",
              "      background-color: #E8F0FE;\n",
              "      border: none;\n",
              "      border-radius: 50%;\n",
              "      cursor: pointer;\n",
              "      display: none;\n",
              "      fill: #1967D2;\n",
              "      height: 32px;\n",
              "      padding: 0 0 0 0;\n",
              "      width: 32px;\n",
              "    }\n",
              "\n",
              "    .colab-df-convert:hover {\n",
              "      background-color: #E2EBFA;\n",
              "      box-shadow: 0px 1px 2px rgba(60, 64, 67, 0.3), 0px 1px 3px 1px rgba(60, 64, 67, 0.15);\n",
              "      fill: #174EA6;\n",
              "    }\n",
              "\n",
              "    .colab-df-buttons div {\n",
              "      margin-bottom: 4px;\n",
              "    }\n",
              "\n",
              "    [theme=dark] .colab-df-convert {\n",
              "      background-color: #3B4455;\n",
              "      fill: #D2E3FC;\n",
              "    }\n",
              "\n",
              "    [theme=dark] .colab-df-convert:hover {\n",
              "      background-color: #434B5C;\n",
              "      box-shadow: 0px 1px 3px 1px rgba(0, 0, 0, 0.15);\n",
              "      filter: drop-shadow(0px 1px 2px rgba(0, 0, 0, 0.3));\n",
              "      fill: #FFFFFF;\n",
              "    }\n",
              "  </style>\n",
              "\n",
              "    <script>\n",
              "      const buttonEl =\n",
              "        document.querySelector('#df-56647048-5bf4-4a7d-9766-ab32549ca347 button.colab-df-convert');\n",
              "      buttonEl.style.display =\n",
              "        google.colab.kernel.accessAllowed ? 'block' : 'none';\n",
              "\n",
              "      async function convertToInteractive(key) {\n",
              "        const element = document.querySelector('#df-56647048-5bf4-4a7d-9766-ab32549ca347');\n",
              "        const dataTable =\n",
              "          await google.colab.kernel.invokeFunction('convertToInteractive',\n",
              "                                                    [key], {});\n",
              "        if (!dataTable) return;\n",
              "\n",
              "        const docLinkHtml = 'Like what you see? Visit the ' +\n",
              "          '<a target=\"_blank\" href=https://colab.research.google.com/notebooks/data_table.ipynb>data table notebook</a>'\n",
              "          + ' to learn more about interactive tables.';\n",
              "        element.innerHTML = '';\n",
              "        dataTable['output_type'] = 'display_data';\n",
              "        await google.colab.output.renderOutput(dataTable, element);\n",
              "        const docLink = document.createElement('div');\n",
              "        docLink.innerHTML = docLinkHtml;\n",
              "        element.appendChild(docLink);\n",
              "      }\n",
              "    </script>\n",
              "  </div>\n",
              "\n",
              "\n",
              "<div id=\"df-8f83bd20-f254-4fd0-a3cf-117262efa594\">\n",
              "  <button class=\"colab-df-quickchart\" onclick=\"quickchart('df-8f83bd20-f254-4fd0-a3cf-117262efa594')\"\n",
              "            title=\"Suggest charts\"\n",
              "            style=\"display:none;\">\n",
              "\n",
              "<svg xmlns=\"http://www.w3.org/2000/svg\" height=\"24px\"viewBox=\"0 0 24 24\"\n",
              "     width=\"24px\">\n",
              "    <g>\n",
              "        <path d=\"M19 3H5c-1.1 0-2 .9-2 2v14c0 1.1.9 2 2 2h14c1.1 0 2-.9 2-2V5c0-1.1-.9-2-2-2zM9 17H7v-7h2v7zm4 0h-2V7h2v10zm4 0h-2v-4h2v4z\"/>\n",
              "    </g>\n",
              "</svg>\n",
              "  </button>\n",
              "\n",
              "<style>\n",
              "  .colab-df-quickchart {\n",
              "      --bg-color: #E8F0FE;\n",
              "      --fill-color: #1967D2;\n",
              "      --hover-bg-color: #E2EBFA;\n",
              "      --hover-fill-color: #174EA6;\n",
              "      --disabled-fill-color: #AAA;\n",
              "      --disabled-bg-color: #DDD;\n",
              "  }\n",
              "\n",
              "  [theme=dark] .colab-df-quickchart {\n",
              "      --bg-color: #3B4455;\n",
              "      --fill-color: #D2E3FC;\n",
              "      --hover-bg-color: #434B5C;\n",
              "      --hover-fill-color: #FFFFFF;\n",
              "      --disabled-bg-color: #3B4455;\n",
              "      --disabled-fill-color: #666;\n",
              "  }\n",
              "\n",
              "  .colab-df-quickchart {\n",
              "    background-color: var(--bg-color);\n",
              "    border: none;\n",
              "    border-radius: 50%;\n",
              "    cursor: pointer;\n",
              "    display: none;\n",
              "    fill: var(--fill-color);\n",
              "    height: 32px;\n",
              "    padding: 0;\n",
              "    width: 32px;\n",
              "  }\n",
              "\n",
              "  .colab-df-quickchart:hover {\n",
              "    background-color: var(--hover-bg-color);\n",
              "    box-shadow: 0 1px 2px rgba(60, 64, 67, 0.3), 0 1px 3px 1px rgba(60, 64, 67, 0.15);\n",
              "    fill: var(--button-hover-fill-color);\n",
              "  }\n",
              "\n",
              "  .colab-df-quickchart-complete:disabled,\n",
              "  .colab-df-quickchart-complete:disabled:hover {\n",
              "    background-color: var(--disabled-bg-color);\n",
              "    fill: var(--disabled-fill-color);\n",
              "    box-shadow: none;\n",
              "  }\n",
              "\n",
              "  .colab-df-spinner {\n",
              "    border: 2px solid var(--fill-color);\n",
              "    border-color: transparent;\n",
              "    border-bottom-color: var(--fill-color);\n",
              "    animation:\n",
              "      spin 1s steps(1) infinite;\n",
              "  }\n",
              "\n",
              "  @keyframes spin {\n",
              "    0% {\n",
              "      border-color: transparent;\n",
              "      border-bottom-color: var(--fill-color);\n",
              "      border-left-color: var(--fill-color);\n",
              "    }\n",
              "    20% {\n",
              "      border-color: transparent;\n",
              "      border-left-color: var(--fill-color);\n",
              "      border-top-color: var(--fill-color);\n",
              "    }\n",
              "    30% {\n",
              "      border-color: transparent;\n",
              "      border-left-color: var(--fill-color);\n",
              "      border-top-color: var(--fill-color);\n",
              "      border-right-color: var(--fill-color);\n",
              "    }\n",
              "    40% {\n",
              "      border-color: transparent;\n",
              "      border-right-color: var(--fill-color);\n",
              "      border-top-color: var(--fill-color);\n",
              "    }\n",
              "    60% {\n",
              "      border-color: transparent;\n",
              "      border-right-color: var(--fill-color);\n",
              "    }\n",
              "    80% {\n",
              "      border-color: transparent;\n",
              "      border-right-color: var(--fill-color);\n",
              "      border-bottom-color: var(--fill-color);\n",
              "    }\n",
              "    90% {\n",
              "      border-color: transparent;\n",
              "      border-bottom-color: var(--fill-color);\n",
              "    }\n",
              "  }\n",
              "</style>\n",
              "\n",
              "  <script>\n",
              "    async function quickchart(key) {\n",
              "      const quickchartButtonEl =\n",
              "        document.querySelector('#' + key + ' button');\n",
              "      quickchartButtonEl.disabled = true;  // To prevent multiple clicks.\n",
              "      quickchartButtonEl.classList.add('colab-df-spinner');\n",
              "      try {\n",
              "        const charts = await google.colab.kernel.invokeFunction(\n",
              "            'suggestCharts', [key], {});\n",
              "      } catch (error) {\n",
              "        console.error('Error during call to suggestCharts:', error);\n",
              "      }\n",
              "      quickchartButtonEl.classList.remove('colab-df-spinner');\n",
              "      quickchartButtonEl.classList.add('colab-df-quickchart-complete');\n",
              "    }\n",
              "    (() => {\n",
              "      let quickchartButtonEl =\n",
              "        document.querySelector('#df-8f83bd20-f254-4fd0-a3cf-117262efa594 button');\n",
              "      quickchartButtonEl.style.display =\n",
              "        google.colab.kernel.accessAllowed ? 'block' : 'none';\n",
              "    })();\n",
              "  </script>\n",
              "</div>\n",
              "    </div>\n",
              "  </div>\n"
            ],
            "application/vnd.google.colaboratory.intrinsic+json": {
              "type": "dataframe"
            }
          },
          "metadata": {},
          "execution_count": 19
        }
      ],
      "source": [
        "df_f[df_f['Attrition_Flag'] == 'Attrited Customer'].head()"
      ]
    },
    {
      "cell_type": "markdown",
      "source": [
        "## Data Cleaning\n",
        "We do data cleaning because we do not want to carry out predictions with unclean dataset because it will give us wrong predictions hence missleading organisation decisions."
      ],
      "metadata": {
        "id": "-Yect0uqLwBY"
      }
    },
    {
      "cell_type": "markdown",
      "source": [
        "Dropping two columns from our dataset by using df.drop method"
      ],
      "metadata": {
        "id": "aYel4eC6mFTG"
      }
    },
    {
      "cell_type": "code",
      "execution_count": null,
      "metadata": {
        "id": "HssBGkYSEWJ3"
      },
      "outputs": [],
      "source": [
        "df_f.drop(['CLIENTNUM','Naive_Bayes_Classifier_Attrition_Flag_Card_Category_Contacts_Count_12_mon_Dependent_count_Education_Level_Months_Inactive_12_mon_1','Naive_Bayes_Classifier_Attrition_Flag_Card_Category_Contacts_Count_12_mon_Dependent_count_Education_Level_Months_Inactive_12_mon_2'], axis=1,inplace=True)\n"
      ]
    },
    {
      "cell_type": "markdown",
      "source": [
        "Total number of columns after dropping two columns fro our dataset by using\n",
        " len() function"
      ],
      "metadata": {
        "id": "GvzpuCHFl28F"
      }
    },
    {
      "cell_type": "code",
      "execution_count": null,
      "metadata": {
        "colab": {
          "base_uri": "https://localhost:8080/"
        },
        "id": "zBh8TQjAGcYP",
        "outputId": "d869c200-aaa9-4d2e-99de-4f13734252ec"
      },
      "outputs": [
        {
          "output_type": "execute_result",
          "data": {
            "text/plain": [
              "20"
            ]
          },
          "metadata": {},
          "execution_count": 21
        }
      ],
      "source": [
        "len(df_f.columns)"
      ]
    },
    {
      "cell_type": "markdown",
      "source": [
        "Data Preprocessing.\n",
        "In this process i will do more cleaning,prepare my raw data such that i can carry out feature engineering."
      ],
      "metadata": {
        "id": "OX3i2g13LY61"
      }
    },
    {
      "cell_type": "markdown",
      "source": [
        "x1_train will contain all the data from my dataframe apart from from the Attrition _Frag column which i have dropped.\n",
        "Attrition_Frag column data will now be in the y1_train."
      ],
      "metadata": {
        "id": "3dXDNdeQAkVD"
      }
    },
    {
      "cell_type": "code",
      "source": [
        "x1_train = df_f.drop(['Attrition_Flag'],axis=1)\n",
        "y1_train = df_f['Attrition_Flag']\n",
        "x1_train.shape\n"
      ],
      "metadata": {
        "colab": {
          "base_uri": "https://localhost:8080/"
        },
        "id": "FdWAa6QQLZqg",
        "outputId": "7779d052-3145-4722-bc9b-a6ea4accbaa3"
      },
      "execution_count": null,
      "outputs": [
        {
          "output_type": "execute_result",
          "data": {
            "text/plain": [
              "(10127, 19)"
            ]
          },
          "metadata": {},
          "execution_count": 22
        }
      ]
    },
    {
      "cell_type": "markdown",
      "source": [
        "I split my Dataset into training & test sets,75%  and 25% respectively"
      ],
      "metadata": {
        "id": "6lEhPXJfmmeH"
      }
    },
    {
      "cell_type": "code",
      "source": [
        "x1_train,x1_test,y1_train,y1_test = sklearn.model_selection.train_test_split(x1_train,y1_train,test_size=0.25)\n",
        "print('x1_train.shape:',x1_train.shape)\n",
        "print('x1_test.shape:',x1_test.shape)\n",
        "print('y1_train.shape:',y1_train.shape)\n",
        "print('y1_test.shape:',y1_test.shape)"
      ],
      "metadata": {
        "colab": {
          "base_uri": "https://localhost:8080/"
        },
        "id": "DBhjFzveNf4m",
        "outputId": "ca86b2fd-8f0f-4c86-d37b-1997437fd878"
      },
      "execution_count": null,
      "outputs": [
        {
          "output_type": "stream",
          "name": "stdout",
          "text": [
            "x1_train.shape: (7595, 19)\n",
            "x1_test.shape: (2532, 19)\n",
            "y1_train.shape: (7595,)\n",
            "y1_test.shape: (2532,)\n"
          ]
        }
      ]
    },
    {
      "cell_type": "markdown",
      "source": [
        "I select columns from my dataset x1_train that is to say type 'int64' & 'float64' by 'select_dtypes' method\n",
        "\n",
        "I also select columns from dataset x1_train with the object type,majorly composed of categorical data.\n",
        "\n",
        "sklearn.preprocessing.OneHotEncoding transforms categorical attributes.\n",
        "\n",
        "\n"
      ],
      "metadata": {
        "id": "tak8h4ChB7aq"
      }
    },
    {
      "cell_type": "code",
      "source": [
        "nattributes_attributes = x1_train.select_dtypes(include=['int64','float64']).columns\n",
        "cattributes_attributes = x1_train.select_dtypes(include='object').columns\n",
        "ctran = sklearn.compose.ColumnTransformer([\n",
        "  ('standard_scaling',sklearn.preprocessing.StandardScaler(),nattributes_attributes),\n",
        "  ('one_hot_encoding',sklearn.preprocessing.OneHotEncoder(handle_unknown='ignore'),['Gender','Education_Level','Marital_Status','Income_Category','Card_Category','Income_Category'])\n",
        "])\n"
      ],
      "metadata": {
        "id": "nFUgzv7iSf0Z"
      },
      "execution_count": null,
      "outputs": []
    },
    {
      "cell_type": "markdown",
      "source": [
        "After executing these steps,x1_train and x1_test will be preprocessed according to the transformations specified in the ColumnTransformer hence ready for further use in machine learning tasks.\n",
        "\n"
      ],
      "metadata": {
        "id": "bAin6-a7OSET"
      }
    },
    {
      "cell_type": "code",
      "source": [
        "ctran.fit(x1_train)\n",
        "x1_train = ctran.transform(x1_train)\n",
        "x1_test = ctran.transform(x1_test)"
      ],
      "metadata": {
        "id": "blaOJifYFzeY"
      },
      "execution_count": null,
      "outputs": []
    },
    {
      "cell_type": "markdown",
      "source": [
        "# Model Assessment"
      ],
      "metadata": {
        "id": "LslLaS8vgVX-"
      }
    },
    {
      "cell_type": "markdown",
      "source": [
        "Model comparison that is  SVM,KNN,and Decision Trees are different algorithms to be used in this case since each performs differently due to built in behaviours & principles possesed by each.This will help us understand which algorithm performs better than the other.\n",
        "\n",
        "\n",
        "\n",
        "*  The one which fits the problem best will be chosen.\n",
        "*  By testing all these algorithms it will help us no the insights across various algorithms.\n",
        "\n",
        "*  Data capture differ with different algorithms.\n",
        "\n",
        "\n",
        "* With cross-validation,estimating how well models generalize to unseen data will be put into consideration.\n",
        "\n",
        "\n",
        "\n",
        "\n",
        "\n",
        "\n",
        "\n",
        "\n",
        "\n",
        "\n",
        "\n",
        "\n"
      ],
      "metadata": {
        "id": "tihlVr1vPSp6"
      }
    },
    {
      "cell_type": "markdown",
      "source": [
        "## SVM"
      ],
      "metadata": {
        "id": "8lmLh7P4dVTO"
      }
    },
    {
      "cell_type": "code",
      "source": [
        "\n",
        "parameters_grid = {\n",
        "    \"kernel\":[\"linear\",\"rbf\",\"poly\"],\n",
        "    \"C\":[0.005,0.05,0.5,5,15,100]\n",
        "}\n",
        "m_svm = sklearn.model_selection.GridSearchCV(sklearn.svm.SVC(),parameters_grid,scoring=\"accuracy\",cv=5,n_jobs=-1)\n",
        "m_svm.fit(x1_train,y1_train)\n",
        "print(\"Accuracy of finest svm classifier = {:.2f}\".format(m_svm.best_score_))\n",
        "print(\"Finest hyperparameters got={}\".format(m_svm.best_params_))\n"
      ],
      "metadata": {
        "colab": {
          "base_uri": "https://localhost:8080/"
        },
        "id": "nFtLCAFac-uI",
        "outputId": "fd9d63f5-931a-411b-e8fe-fa88bb2e9f43"
      },
      "execution_count": null,
      "outputs": [
        {
          "output_type": "stream",
          "name": "stdout",
          "text": [
            "Accuracy of finest svm classifier = 0.94\n",
            "Finest hyperparameters got={'C': 5, 'kernel': 'rbf'}\n"
          ]
        }
      ]
    },
    {
      "cell_type": "markdown",
      "source": [
        "## Decision Tree"
      ],
      "metadata": {
        "id": "3onYQr6ob_Y3"
      }
    },
    {
      "cell_type": "code",
      "source": [
        "parameters_grid = {\n",
        "    \"criterion\":[\"gini\",\"entropy\"],\n",
        "    \"max_depth\":range(3,25,5),\n",
        "    \"min_samples_split\":range(3,25,5)\n",
        "}\n",
        "m_tree = sklearn.model_selection.GridSearchCV(sklearn.tree.DecisionTreeClassifier(),parameters_grid,scoring=\"accuracy\",cv=5,n_jobs=-1)\n",
        "m_tree.fit(x1_train,y1_train)\n",
        "print(\"Accuracy of finest decision tree classifier = {:.2f}\".format(m_tree.best_score_))\n",
        "print(\"Finest hyperparameters got ={}\".format(m_tree.best_params_))\n"
      ],
      "metadata": {
        "colab": {
          "base_uri": "https://localhost:8080/"
        },
        "id": "VJsSDbMdcGcl",
        "outputId": "87cf050e-5879-492b-a6b5-93d14194a727"
      },
      "execution_count": null,
      "outputs": [
        {
          "output_type": "stream",
          "name": "stdout",
          "text": [
            "Accuracy of finest decision tree classifier = 0.94\n",
            "Finest hyperparameters got ={'criterion': 'entropy', 'max_depth': 18, 'min_samples_split': 18}\n"
          ]
        }
      ]
    },
    {
      "cell_type": "markdown",
      "source": [
        "## K Nearest Neighbors (KNN)"
      ],
      "metadata": {
        "id": "QBP0HsWKlNrf"
      }
    },
    {
      "cell_type": "code",
      "source": [
        "parameters_grid = {\n",
        "    \"n_neighbors\":[1,6,11,16,21],\n",
        "    \"metric\":[\"minkowski\",\"euclidean\",\"manhattan\"]\n",
        "}\n",
        "m_knn = sklearn.model_selection.GridSearchCV(sklearn.neighbors.KNeighborsClassifier(),parameters_grid,scoring=\"accuracy\",cv=5,n_jobs=-1)\n",
        "m_knn.fit(x1_train,y1_train)\n",
        "print(\"Accuracy of finest KNN classifier = {:.2f}\".format(m_knn.best_score_))\n",
        "print(\"Finest hyperparameters got ={}\".format(m_knn.best_params_))\n"
      ],
      "metadata": {
        "colab": {
          "base_uri": "https://localhost:8080/"
        },
        "id": "5oxo8XhYlrPn",
        "outputId": "5e825379-1db2-46b8-b53a-1e0b10c379ae"
      },
      "execution_count": null,
      "outputs": [
        {
          "output_type": "stream",
          "name": "stdout",
          "text": [
            "Accuracy of finest KNN classifier = 0.90\n",
            "Finest hyperparameters got ={'metric': 'minkowski', 'n_neighbors': 16}\n"
          ]
        }
      ]
    },
    {
      "cell_type": "markdown",
      "source": [
        "# Testing the Best Model"
      ],
      "metadata": {
        "id": "EVkt43P2pfnu"
      }
    },
    {
      "cell_type": "markdown",
      "source": [
        "1. m_tree.predict(x1_test) uses the trained Tree model m_tree to predict target variable(y_pre) for features in the test dataset(x1_test)\n",
        "2. sklearn.metrics.accuracy_score(y1_test,y_pre) to calculate accuracy of predictions made.\n",
        "3. sklearn.metrics.confusion_matrix(y1_test,y_pre) used to compute confusion matrix,a table that summarizes performance of classification model by comparing actual and predicted classes.\n",
        "4. sklearn.metrics.precision_recall_fscore_support(y1_test,y_pre) computes precision,recall,F1-score and support for each class,returns 4 arrays containing precision,recall,f1-score,and number of true instances for each class.\n",
        "5. sklearn.metrics.classification_report(y1_test,y_pre),compiles a text report showing precision,recall,f1-score & support for each class and the macro and weighted averanges of these matrics.\n",
        "\n",
        "\n",
        "\n"
      ],
      "metadata": {
        "id": "rAU5Z5jqccya"
      }
    },
    {
      "cell_type": "code",
      "source": [
        "y_pre = m_tree.predict(x1_test)\n",
        "final_accurcy = sklearn.metrics.accuracy_score(y1_test,y_pre)\n",
        "confus_ma = sklearn.metrics.confusion_matrix(y1_test,y_pre)\n",
        "precision,recall,f1,support = sklearn.metrics.precision_recall_fscore_support(y1_test,y_pre)\n",
        "classific_repo = sklearn.metrics.classification_report(y1_test,y_pre)\n",
        "print(\"Accuracy_final=\",final_accurcy)\n",
        "print(\"Precision_final=\",precision)\n",
        "print(\"Recall_final=\",recall)\n",
        "print(\"f1-Score=\",f1)\n",
        "print(\"Confusion Matrix:\\n\",confus_ma)\n",
        "print(\"Classification Report:\\n\",classific_repo)"
      ],
      "metadata": {
        "colab": {
          "base_uri": "https://localhost:8080/"
        },
        "id": "JhJ1uNiaZ0Mf",
        "outputId": "86e875f6-eac3-49af-ad26-cda3e71e777b"
      },
      "execution_count": null,
      "outputs": [
        {
          "output_type": "stream",
          "name": "stdout",
          "text": [
            "Accuracy_final= 0.9439178515007899\n",
            "Precision_final= [0.84972678 0.9598338 ]\n",
            "Recall_final= [0.78140704 0.9742268 ]\n",
            "f1-Score= [0.81413613 0.96697674]\n",
            "Confusion Matrix:\n",
            " [[ 311   87]\n",
            " [  55 2079]]\n",
            "Classification Report:\n",
            "                    precision    recall  f1-score   support\n",
            "\n",
            "Attrited Customer       0.85      0.78      0.81       398\n",
            "Existing Customer       0.96      0.97      0.97      2134\n",
            "\n",
            "         accuracy                           0.94      2532\n",
            "        macro avg       0.90      0.88      0.89      2532\n",
            "     weighted avg       0.94      0.94      0.94      2532\n",
            "\n"
          ]
        }
      ]
    },
    {
      "cell_type": "markdown",
      "source": [
        "# Conclusion"
      ],
      "metadata": {
        "id": "VRE28NsqwK5x"
      }
    },
    {
      "cell_type": "markdown",
      "source": [
        " Decision Tree and SVM  got 94% as accuracy while KNN with 90% hence adding more confidance to my findings, agreater strength.\n",
        "\n",
        "I chose Decision Tree,my Attrited customers's performance with precision=0.85, recall=0.78, f1-score=0.81\n",
        "The greater the values the better performance."
      ],
      "metadata": {
        "id": "9W_YzJxvMSi4"
      }
    }
  ],
  "metadata": {
    "colab": {
      "provenance": [],
      "include_colab_link": true
    },
    "kernelspec": {
      "display_name": "Python 3",
      "name": "python3"
    },
    "language_info": {
      "name": "python"
    }
  },
  "nbformat": 4,
  "nbformat_minor": 0
}
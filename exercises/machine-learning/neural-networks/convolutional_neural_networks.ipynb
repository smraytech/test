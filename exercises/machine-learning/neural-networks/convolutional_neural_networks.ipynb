{
  "cells": [
    {
      "cell_type": "markdown",
      "id": "korean-wednesday",
      "metadata": {
        "id": "korean-wednesday"
      },
      "source": [
        "# Convolutional Neural Networks\n",
        "You should build an end-to-end machine learning pipeline using a convolutional neural network model. In particular, you should do the following:\n",
        "- Load the `mnist` dataset using [Pandas](https://pandas.pydata.org/docs/reference/api/pandas.read_csv.html). You can find this dataset in the datasets folder.\n",
        "- Split the dataset into training and test sets using [Scikit-Learn](https://scikit-learn.org/stable/modules/generated/sklearn.model_selection.train_test_split.html).\n",
        "- Build an end-to-end machine learning pipeline, including a [convolutional neural network](https://keras.io/examples/vision/mnist_convnet/) model.\n",
        "- Optimize your pipeline by validating your design decisions.\n",
        "- Test the best pipeline on the test set and report various [evaluation metrics](https://scikit-learn.org/0.15/modules/model_evaluation.html).  \n",
        "- Check the documentation to identify the most important hyperparameters, attributes, and methods of the model. Use them in practice."
      ]
    },
    {
      "cell_type": "code",
      "execution_count": 1,
      "id": "infrared-copper",
      "metadata": {
        "id": "infrared-copper"
      },
      "outputs": [],
      "source": [
        "import os, math, time, random\n",
        "import numpy as np\n",
        "import pandas as pd\n",
        "import matplotlib.pyplot as plt\n",
        "\n",
        "from sklearn.model_selection import train_test_split\n",
        "from sklearn.metrics import accuracy_score, classification_report, confusion_matrix, f1_score\n",
        "\n",
        "import tensorflow as tf\n",
        "from tensorflow import keras\n",
        "from tensorflow.keras import layers"
      ]
    },
    {
      "cell_type": "markdown",
      "source": [
        "# 0) Reproducibility"
      ],
      "metadata": {
        "id": "aPpK971rfeDM"
      },
      "id": "aPpK971rfeDM"
    },
    {
      "cell_type": "code",
      "source": [
        "SEED = 42\n",
        "np.random.seed(SEED)\n",
        "random.seed(SEED)\n",
        "tf.random.set_seed(SEED)"
      ],
      "metadata": {
        "id": "ThYWWj64fT3d"
      },
      "id": "ThYWWj64fT3d",
      "execution_count": 2,
      "outputs": []
    },
    {
      "cell_type": "markdown",
      "source": [
        "1) Load data with Pandas"
      ],
      "metadata": {
        "id": "Oo-EJsq7fqOp"
      },
      "id": "Oo-EJsq7fqOp"
    },
    {
      "cell_type": "code",
      "source": [
        "CSV_PATH = \"/content/mnist.csv\"\n",
        "df = pd.read_csv(CSV_PATH)"
      ],
      "metadata": {
        "id": "VffGnwcMfk5T"
      },
      "id": "VffGnwcMfk5T",
      "execution_count": 4,
      "outputs": []
    },
    {
      "cell_type": "code",
      "source": [
        "assert \"class\" in df.columns, \"Expected a 'class' column as the label.\"\n",
        "if \"id\" in df.columns:\n",
        "    df = df.drop(columns=[\"id\"])"
      ],
      "metadata": {
        "id": "aZK5yd-egEFA"
      },
      "id": "aZK5yd-egEFA",
      "execution_count": 5,
      "outputs": []
    },
    {
      "cell_type": "code",
      "source": [
        "X = df.drop(columns=[\"class\"]).astype(np.float32).values\n",
        "y = df[\"class\"].astype(np.int64).values"
      ],
      "metadata": {
        "id": "YytzuQv-gVh9"
      },
      "id": "YytzuQv-gVh9",
      "execution_count": 6,
      "outputs": []
    },
    {
      "cell_type": "markdown",
      "source": [
        "# Normalize to [0,1] and reshape to (28,28,1)"
      ],
      "metadata": {
        "id": "kECd954xgkaW"
      },
      "id": "kECd954xgkaW"
    },
    {
      "cell_type": "code",
      "source": [
        "X = (X / 255.0).reshape(-1, 28, 28, 1)"
      ],
      "metadata": {
        "id": "GafE6pnxgb31"
      },
      "id": "GafE6pnxgb31",
      "execution_count": 7,
      "outputs": []
    },
    {
      "cell_type": "markdown",
      "source": [
        "2) Train / Test split (and Validation split from train)"
      ],
      "metadata": {
        "id": "_JBZO3Lqgxeg"
      },
      "id": "_JBZO3Lqgxeg"
    },
    {
      "cell_type": "code",
      "source": [
        "X_train, X_test, y_train, y_test = train_test_split(\n",
        "    X, y, test_size=0.2, stratify=y, random_state=SEED\n",
        ")\n",
        "X_train, X_val, y_train, y_val = train_test_split(\n",
        "    X_train, y_train, test_size=0.15, stratify=y_train, random_state=SEED\n",
        ")\n",
        "num_classes = len(np.unique(y))"
      ],
      "metadata": {
        "id": "_s4ddsOMgwIy"
      },
      "id": "_s4ddsOMgwIy",
      "execution_count": 9,
      "outputs": []
    },
    {
      "cell_type": "code",
      "source": [
        "print(f\"Train: {X_train.shape}, Val: {X_val.shape}, Test: {X_test.shape}\")"
      ],
      "metadata": {
        "id": "x4l4eAgmg-KF",
        "outputId": "17cb5da0-db83-4686-b76c-1157903ccc1a",
        "colab": {
          "base_uri": "https://localhost:8080/"
        }
      },
      "id": "x4l4eAgmg-KF",
      "execution_count": 10,
      "outputs": [
        {
          "output_type": "stream",
          "name": "stdout",
          "text": [
            "Train: (775, 28, 28, 1), Val: (137, 28, 28, 1), Test: (229, 28, 28, 1)\n"
          ]
        }
      ]
    },
    {
      "cell_type": "markdown",
      "source": [
        "3) Data augmentation (lightweight, built into the model)"
      ],
      "metadata": {
        "id": "aeWPA3adhb-d"
      },
      "id": "aeWPA3adhb-d"
    },
    {
      "cell_type": "code",
      "source": [
        "data_augmentation = keras.Sequential(\n",
        "    [\n",
        "        layers.RandomRotation(0.05, fill_mode=\"nearest\"),\n",
        "        layers.RandomTranslation(0.05, 0.05, fill_mode=\"nearest\"),\n",
        "        layers.RandomZoom(0.05),\n",
        "    ],\n",
        "    name=\"augmentation\",\n",
        ")"
      ],
      "metadata": {
        "id": "1_VRzR0hhWD5"
      },
      "id": "1_VRzR0hhWD5",
      "execution_count": 11,
      "outputs": []
    },
    {
      "cell_type": "markdown",
      "source": [
        "4) Model builder (two variants to validate design choices)"
      ],
      "metadata": {
        "id": "QD8Cf2lwhn1T"
      },
      "id": "QD8Cf2lwhn1T"
    },
    {
      "cell_type": "code",
      "source": [
        "def build_cnn(filters=(32, 64), dense_units=128, dropout=0.3, kernel_size=3, lr=1e-3):\n",
        "    inputs = keras.Input(shape=(28, 28, 1))\n",
        "    x = data_augmentation(inputs)\n",
        "    x = layers.Conv2D(filters[0], kernel_size, padding=\"same\", activation=\"relu\")(x)\n",
        "    x = layers.BatchNormalization()(x)\n",
        "    x = layers.Conv2D(filters[0], kernel_size, padding=\"same\", activation=\"relu\")(x)\n",
        "    x = layers.MaxPooling2D()(x)\n",
        "    x = layers.Dropout(dropout)(x)\n",
        "\n",
        "    x = layers.Conv2D(filters[1], kernel_size, padding=\"same\", activation=\"relu\")(x)\n",
        "    x = layers.BatchNormalization()(x)\n",
        "    x = layers.Conv2D(filters[1], kernel_size, padding=\"same\", activation=\"relu\")(x)\n",
        "    x = layers.MaxPooling2D()(x)\n",
        "    x = layers.Dropout(dropout)(x)\n",
        "\n",
        "    x = layers.Flatten()(x)\n",
        "    x = layers.Dense(dense_units, activation=\"relu\")(x)\n",
        "    x = layers.Dropout(dropout)(x)\n",
        "    outputs = layers.Dense(num_classes, activation=\"softmax\")(x)\n",
        "\n",
        "    model = keras.Model(inputs, outputs)\n",
        "    model.compile(\n",
        "        optimizer=keras.optimizers.Adam(learning_rate=lr),\n",
        "        loss=\"sparse_categorical_crossentropy\",\n",
        "        metrics=[\"accuracy\"],\n",
        "    )\n",
        "    return model\n",
        "\n",
        "candidates = [\n",
        "    {\"name\": \"SmallCNN\", \"filters\": (32, 64), \"dense_units\": 128, \"dropout\": 0.3, \"kernel_size\": 3, \"lr\": 1e-3},\n",
        "    {\"name\": \"MidCNN\",   \"filters\": (64,128), \"dense_units\": 256, \"dropout\": 0.4, \"kernel_size\": 3, \"lr\": 8e-4},\n",
        "]"
      ],
      "metadata": {
        "id": "q_0EnSobhozx"
      },
      "id": "q_0EnSobhozx",
      "execution_count": 12,
      "outputs": []
    },
    {
      "cell_type": "markdown",
      "source": [
        "5) Training setup with validation (EarlyStopping + LR decay)"
      ],
      "metadata": {
        "id": "mn7qFGThh2GE"
      },
      "id": "mn7qFGThh2GE"
    },
    {
      "cell_type": "code",
      "source": [
        "BATCH_SIZE = 128\n",
        "EPOCHS = 30\n",
        "\n",
        "def train_and_validate(config):\n",
        "    model = build_cnn(\n",
        "        filters=config[\"filters\"],\n",
        "        dense_units=config[\"dense_units\"],\n",
        "        dropout=config[\"dropout\"],\n",
        "        kernel_size=config[\"kernel_size\"],\n",
        "        lr=config[\"lr\"],\n",
        "    )\n",
        "\n",
        "    callbacks = [\n",
        "        keras.callbacks.EarlyStopping(patience=5, restore_best_weights=True, monitor=\"val_accuracy\"),\n",
        "        keras.callbacks.ReduceLROnPlateau(factor=0.5, patience=2, min_lr=1e-5, monitor=\"val_loss\"),\n",
        "    ]\n",
        "\n",
        "    history = model.fit(\n",
        "        X_train, y_train,\n",
        "        validation_data=(X_val, y_val),\n",
        "        batch_size=BATCH_SIZE,\n",
        "        epochs=EPOCHS,\n",
        "        verbose=2,\n",
        "        callbacks=callbacks,\n",
        "    )\n",
        "    # Best validation accuracy\n",
        "    best_val_acc = max(history.history[\"val_accuracy\"])\n",
        "    return model, history, best_val_acc\n",
        "\n",
        "histories = {}\n",
        "models = {}\n",
        "val_scores = {}\n",
        "\n",
        "for cfg in candidates:\n",
        "    print(f\"\\n=== Training {cfg['name']} ===\")\n",
        "    model, history, best_acc = train_and_validate(cfg)\n",
        "    histories[cfg[\"name\"]] = history\n",
        "    models[cfg[\"name\"]] = model\n",
        "    val_scores[cfg[\"name\"]] = best_acc\n",
        "    print(f\"{cfg['name']} best val acc: {best_acc:.4f}\")\n",
        "\n",
        "best_name = max(val_scores, key=val_scores.get)\n",
        "best_model = models[best_name]\n",
        "print(f\"\\nSelected best model: {best_name} (val_acc={val_scores[best_name]:.4f})\")"
      ],
      "metadata": {
        "id": "BgPhSSqHh7L8",
        "outputId": "70cd8ac3-0817-41e4-ed77-bd143bdbc1e8",
        "colab": {
          "base_uri": "https://localhost:8080/"
        }
      },
      "id": "BgPhSSqHh7L8",
      "execution_count": 13,
      "outputs": [
        {
          "output_type": "stream",
          "name": "stdout",
          "text": [
            "\n",
            "=== Training SmallCNN ===\n",
            "Epoch 1/30\n",
            "7/7 - 8s - 1s/step - accuracy: 0.0916 - loss: nan - val_accuracy: 0.0949 - val_loss: nan - learning_rate: 1.0000e-03\n",
            "Epoch 2/30\n",
            "7/7 - 3s - 443ms/step - accuracy: 0.0916 - loss: nan - val_accuracy: 0.0949 - val_loss: nan - learning_rate: 1.0000e-03\n",
            "Epoch 3/30\n",
            "7/7 - 5s - 678ms/step - accuracy: 0.0916 - loss: nan - val_accuracy: 0.0949 - val_loss: nan - learning_rate: 5.0000e-04\n",
            "Epoch 4/30\n",
            "7/7 - 3s - 395ms/step - accuracy: 0.0916 - loss: nan - val_accuracy: 0.0949 - val_loss: nan - learning_rate: 5.0000e-04\n",
            "Epoch 5/30\n",
            "7/7 - 5s - 727ms/step - accuracy: 0.0916 - loss: nan - val_accuracy: 0.0949 - val_loss: nan - learning_rate: 2.5000e-04\n",
            "Epoch 6/30\n",
            "7/7 - 5s - 731ms/step - accuracy: 0.0916 - loss: nan - val_accuracy: 0.0949 - val_loss: nan - learning_rate: 2.5000e-04\n",
            "SmallCNN best val acc: 0.0949\n",
            "\n",
            "=== Training MidCNN ===\n",
            "Epoch 1/30\n",
            "7/7 - 12s - 2s/step - accuracy: 0.0916 - loss: nan - val_accuracy: 0.0949 - val_loss: nan - learning_rate: 8.0000e-04\n",
            "Epoch 2/30\n",
            "7/7 - 10s - 1s/step - accuracy: 0.0916 - loss: nan - val_accuracy: 0.0949 - val_loss: nan - learning_rate: 8.0000e-04\n",
            "Epoch 3/30\n",
            "7/7 - 10s - 1s/step - accuracy: 0.0916 - loss: nan - val_accuracy: 0.0949 - val_loss: nan - learning_rate: 4.0000e-04\n",
            "Epoch 4/30\n",
            "7/7 - 11s - 2s/step - accuracy: 0.0916 - loss: nan - val_accuracy: 0.0949 - val_loss: nan - learning_rate: 4.0000e-04\n",
            "Epoch 5/30\n",
            "7/7 - 11s - 2s/step - accuracy: 0.0916 - loss: nan - val_accuracy: 0.0949 - val_loss: nan - learning_rate: 2.0000e-04\n",
            "Epoch 6/30\n",
            "7/7 - 10s - 1s/step - accuracy: 0.0916 - loss: nan - val_accuracy: 0.0949 - val_loss: nan - learning_rate: 2.0000e-04\n",
            "MidCNN best val acc: 0.0949\n",
            "\n",
            "Selected best model: SmallCNN (val_acc=0.0949)\n"
          ]
        }
      ]
    },
    {
      "cell_type": "markdown",
      "source": [
        "6) Plot learning curves for the best model"
      ],
      "metadata": {
        "id": "W0tU3-PgilIu"
      },
      "id": "W0tU3-PgilIu"
    },
    {
      "cell_type": "code",
      "source": [
        "def plot_history(h):\n",
        "    plt.figure(figsize=(6,4))\n",
        "    plt.plot(h.history[\"accuracy\"], label=\"train_acc\")\n",
        "    plt.plot(h.history[\"val_accuracy\"], label=\"val_acc\")\n",
        "    plt.xlabel(\"Epoch\"); plt.ylabel(\"Accuracy\"); plt.title(f\"{best_name} Accuracy\")\n",
        "    plt.legend(); plt.tight_layout(); plt.show()\n",
        "\n",
        "    plt.figure(figsize=(6,4))\n",
        "    plt.plot(h.history[\"loss\"], label=\"train_loss\")\n",
        "    plt.plot(h.history[\"val_loss\"], label=\"val_loss\")\n",
        "    plt.xlabel(\"Epoch\"); plt.ylabel(\"Loss\"); plt.title(f\"{best_name} Loss\")\n",
        "    plt.legend(); plt.tight_layout(); plt.show()\n",
        "\n",
        "plot_history(histories[best_name])"
      ],
      "metadata": {
        "id": "IYeadCYpigvx",
        "outputId": "fdc0ce8b-528c-40d4-a2b7-a2e0f462e401",
        "colab": {
          "base_uri": "https://localhost:8080/",
          "height": 797
        }
      },
      "id": "IYeadCYpigvx",
      "execution_count": 15,
      "outputs": [
        {
          "output_type": "display_data",
          "data": {
            "text/plain": [
              "<Figure size 600x400 with 1 Axes>"
            ],
            "image/png": "[encoded data removed]"
          },
          "metadata": {}
        },
        {
          "output_type": "display_data",
          "data": {
            "text/plain": [
              "<Figure size 600x400 with 1 Axes>"
            ],
            "image/png": "[encoded data removed]"
          },
          "metadata": {}
        }
      ]
    },
    {
      "cell_type": "markdown",
      "source": [
        "7) Evaluate on the test set (metrics)"
      ],
      "metadata": {
        "id": "8HfxvQ4di4hy"
      },
      "id": "8HfxvQ4di4hy"
    },
    {
      "cell_type": "code",
      "source": [
        "test_probs = best_model.predict(X_test, batch_size=BATCH_SIZE, verbose=0)\n",
        "y_pred = np.argmax(test_probs, axis=1)\n",
        "\n",
        "acc = accuracy_score(y_test, y_pred)\n",
        "f1_macro = f1_score(y_test, y_pred, average=\"macro\")\n",
        "print(f\"\\nTest Accuracy: {acc:.4f}\")\n",
        "print(f\"Test F1 (macro): {f1_macro:.4f}\\n\")\n",
        "\n",
        "print(\"Classification Report:\\n\", classification_report(y_test, y_pred, digits=4))\n",
        "\n",
        "cm = confusion_matrix(y_test, y_pred)\n",
        "plt.figure(figsize=(7,6))\n",
        "plt.imshow(cm, interpolation=\"nearest\")\n",
        "plt.title(\"Confusion Matrix\")\n",
        "plt.colorbar()\n",
        "tick_marks = np.arange(num_classes)\n",
        "plt.xticks(tick_marks, tick_marks); plt.yticks(tick_marks, tick_marks)\n",
        "plt.xlabel(\"Predicted\"); plt.ylabel(\"True\")\n",
        "plt.tight_layout(); plt.show()"
      ],
      "metadata": {
        "id": "QZRMnasCi5TU",
        "outputId": "b88e6560-661d-4e81-80a4-49fd3bf74a1d",
        "colab": {
          "base_uri": "https://localhost:8080/",
          "height": 1000
        }
      },
      "id": "QZRMnasCi5TU",
      "execution_count": 16,
      "outputs": [
        {
          "output_type": "stream",
          "name": "stdout",
          "text": [
            "\n",
            "Test Accuracy: 0.0917\n",
            "Test F1 (macro): 0.0168\n",
            "\n",
            "Classification Report:\n",
            "               precision    recall  f1-score   support\n",
            "\n",
            "           0     0.0917    1.0000    0.1680        21\n",
            "           1     0.0000    0.0000    0.0000        25\n",
            "           2     0.0000    0.0000    0.0000        23\n",
            "           3     0.0000    0.0000    0.0000        22\n",
            "           4     0.0000    0.0000    0.0000        20\n",
            "           5     0.0000    0.0000    0.0000        24\n",
            "           6     0.0000    0.0000    0.0000        20\n",
            "           7     0.0000    0.0000    0.0000        26\n",
            "           8     0.0000    0.0000    0.0000        24\n",
            "           9     0.0000    0.0000    0.0000        24\n",
            "\n",
            "    accuracy                         0.0917       229\n",
            "   macro avg     0.0092    0.1000    0.0168       229\n",
            "weighted avg     0.0084    0.0917    0.0154       229\n",
            "\n"
          ]
        },
        {
          "output_type": "stream",
          "name": "stderr",
          "text": [
            "/usr/local/lib/python3.12/dist-packages/sklearn/metrics/_classification.py:1565: UndefinedMetricWarning: Precision is ill-defined and being set to 0.0 in labels with no predicted samples. Use `zero_division` parameter to control this behavior.\n",
            "  _warn_prf(average, modifier, f\"{metric.capitalize()} is\", len(result))\n",
            "/usr/local/lib/python3.12/dist-packages/sklearn/metrics/_classification.py:1565: UndefinedMetricWarning: Precision is ill-defined and being set to 0.0 in labels with no predicted samples. Use `zero_division` parameter to control this behavior.\n",
            "  _warn_prf(average, modifier, f\"{metric.capitalize()} is\", len(result))\n",
            "/usr/local/lib/python3.12/dist-packages/sklearn/metrics/_classification.py:1565: UndefinedMetricWarning: Precision is ill-defined and being set to 0.0 in labels with no predicted samples. Use `zero_division` parameter to control this behavior.\n",
            "  _warn_prf(average, modifier, f\"{metric.capitalize()} is\", len(result))\n"
          ]
        },
        {
          "output_type": "display_data",
          "data": {
            "text/plain": [
              "<Figure size 700x600 with 2 Axes>"
            ],
            "image/png": "[encoded data removed]"
          },
          "metadata": {}
        }
      ]
    },
    {
      "cell_type": "markdown",
      "source": [
        "What’s being “validated” (optimization choices)\n",
        "\n",
        "Two architecture sizes are trained; the one with higher val accuracy is selected.\n",
        "\n",
        "EarlyStopping prevents overfitting; ReduceLROnPlateau adapts the learning rate.\n",
        "\n",
        "Light augmentation improves generalization without heavy training cost."
      ],
      "metadata": {
        "id": "6_Zt5XG0jWct"
      },
      "id": "6_Zt5XG0jWct"
    }
  ],
  "metadata": {
    "kernelspec": {
      "display_name": "Python 3",
      "language": "python",
      "name": "python3"
    },
    "language_info": {
      "codemirror_mode": {
        "name": "ipython",
        "version": 3
      },
      "file_extension": ".py",
      "mimetype": "text/x-python",
      "name": "python",
      "nbconvert_exporter": "python",
      "pygments_lexer": "ipython3",
      "version": "3.8.5"
    },
    "colab": {
      "provenance": []
    }
  },
  "nbformat": 4,
  "nbformat_minor": 5
}
{
  "cells": [
    {
      "cell_type": "markdown",
      "id": "korean-wednesday",
      "metadata": {
        "id": "korean-wednesday"
      },
      "source": [
        "# Deep Neural Networks\n",
        "You should build an end-to-end machine learning pipeline using a deep learning model. In particular, you should do the following:\n",
        "- Load the `fashion mnist` dataset from [TensorFlow](https://www.tensorflow.org/tutorials/keras/classification). The loaded dataset is already split into training and test sets.\n",
        "- Build an end-to-end machine learning pipeline, including a [deep learning](https://www.tensorflow.org/tutorials/keras/classification) model.\n",
        "- Optimize your pipeline by validating your design decisions.\n",
        "- Test the best pipeline on the test set and report various [evaluation metrics](https://scikit-learn.org/0.15/modules/model_evaluation.html).  \n",
        "- Check the documentation to identify the most important hyperparameters, attributes, and methods of the model. Use them in practice."
      ]
    },
    {
      "cell_type": "code",
      "execution_count": 27,
      "id": "infrared-copper",
      "metadata": {
        "id": "infrared-copper"
      },
      "outputs": [],
      "source": [
        "import numpy as np\n",
        "import pandas as pd\n",
        "import matplotlib.pyplot as plt\n",
        "import seaborn as sns\n",
        "import random\n",
        "from sklearn.metrics import accuracy_score, classification_report, confusion_matrix, f1_score\n",
        "\n",
        "import tensorflow as tf\n",
        "from tensorflow import keras\n",
        "from tensorflow.keras import layers"
      ]
    },
    {
      "cell_type": "markdown",
      "source": [
        "1. Load Fashion-MNIST dataset"
      ],
      "metadata": {
        "id": "KE_D0pwkAD3D"
      },
      "id": "KE_D0pwkAD3D"
    },
    {
      "cell_type": "code",
      "source": [
        "df = pd.read_csv(\"/content/mnist.csv\")\n",
        "df.head()"
      ],
      "metadata": {
        "colab": {
          "base_uri": "https://localhost:8080/",
          "height": 255
        },
        "id": "PKcyYWAb9poC",
        "outputId": "bdd0831d-d652-4225-d3df-878ccf391e85"
      },
      "id": "PKcyYWAb9poC",
      "execution_count": 4,
      "outputs": [
        {
          "output_type": "execute_result",
          "data": {
            "text/plain": [
              "      id  class  pixel1  pixel2  pixel3  pixel4  pixel5  pixel6  pixel7  \\\n",
              "0  31953      5       0       0       0       0       0       0       0   \n",
              "1  34452      8       0       0       0       0       0       0       0   \n",
              "2  60897      5       0       0       0       0       0       0       0   \n",
              "3  36953      0       0       0       0       0       0       0       0   \n",
              "4   1981      3       0       0       0       0       0       0       0   \n",
              "\n",
              "   pixel8  ...  pixel775  pixel776  pixel777  pixel778  pixel779  pixel780  \\\n",
              "0       0  ...         0         0         0         0         0         0   \n",
              "1       0  ...         0         0         0         0         0         0   \n",
              "2       0  ...         0         0         0         0         0         0   \n",
              "3       0  ...         0         0         0         0         0         0   \n",
              "4       0  ...         0         0         0         0         0         0   \n",
              "\n",
              "   pixel781  pixel782  pixel783  pixel784  \n",
              "0         0         0         0         0  \n",
              "1         0         0         0         0  \n",
              "2         0         0         0         0  \n",
              "3         0         0         0         0  \n",
              "4         0         0         0         0  \n",
              "\n",
              "[5 rows x 786 columns]"
            ],
            "text/html": [
              "\n",
              "  <div id=\"df-4ccc0ac4-8c14-47f1-8c74-44fa35cb3c4e\" class=\"colab-df-container\">\n",
              "    <div>\n",
              "<style scoped>\n",
              "    .dataframe tbody tr th:only-of-type {\n",
              "        vertical-align: middle;\n",
              "    }\n",
              "\n",
              "    .dataframe tbody tr th {\n",
              "        vertical-align: top;\n",
              "    }\n",
              "\n",
              "    .dataframe thead th {\n",
              "        text-align: right;\n",
              "    }\n",
              "</style>\n",
              "<table border=\"1\" class=\"dataframe\">\n",
              "  <thead>\n",
              "    <tr style=\"text-align: right;\">\n",
              "      <th></th>\n",
              "      <th>id</th>\n",
              "      <th>class</th>\n",
              "      <th>pixel1</th>\n",
              "      <th>pixel2</th>\n",
              "      <th>pixel3</th>\n",
              "      <th>pixel4</th>\n",
              "      <th>pixel5</th>\n",
              "      <th>pixel6</th>\n",
              "      <th>pixel7</th>\n",
              "      <th>pixel8</th>\n",
              "      <th>...</th>\n",
              "      <th>pixel775</th>\n",
              "      <th>pixel776</th>\n",
              "      <th>pixel777</th>\n",
              "      <th>pixel778</th>\n",
              "      <th>pixel779</th>\n",
              "      <th>pixel780</th>\n",
              "      <th>pixel781</th>\n",
              "      <th>pixel782</th>\n",
              "      <th>pixel783</th>\n",
              "      <th>pixel784</th>\n",
              "    </tr>\n",
              "  </thead>\n",
              "  <tbody>\n",
              "    <tr>\n",
              "      <th>0</th>\n",
              "      <td>31953</td>\n",
              "      <td>5</td>\n",
              "      <td>0</td>\n",
              "      <td>0</td>\n",
              "      <td>0</td>\n",
              "      <td>0</td>\n",
              "      <td>0</td>\n",
              "      <td>0</td>\n",
              "      <td>0</td>\n",
              "      <td>0</td>\n",
              "      <td>...</td>\n",
              "      <td>0</td>\n",
              "      <td>0</td>\n",
              "      <td>0</td>\n",
              "      <td>0</td>\n",
              "      <td>0</td>\n",
              "      <td>0</td>\n",
              "      <td>0</td>\n",
              "      <td>0</td>\n",
              "      <td>0</td>\n",
              "      <td>0</td>\n",
              "    </tr>\n",
              "    <tr>\n",
              "      <th>1</th>\n",
              "      <td>34452</td>\n",
              "      <td>8</td>\n",
              "      <td>0</td>\n",
              "      <td>0</td>\n",
              "      <td>0</td>\n",
              "      <td>0</td>\n",
              "      <td>0</td>\n",
              "      <td>0</td>\n",
              "      <td>0</td>\n",
              "      <td>0</td>\n",
              "      <td>...</td>\n",
              "      <td>0</td>\n",
              "      <td>0</td>\n",
              "      <td>0</td>\n",
              "      <td>0</td>\n",
              "      <td>0</td>\n",
              "      <td>0</td>\n",
              "      <td>0</td>\n",
              "      <td>0</td>\n",
              "      <td>0</td>\n",
              "      <td>0</td>\n",
              "    </tr>\n",
              "    <tr>\n",
              "      <th>2</th>\n",
              "      <td>60897</td>\n",
              "      <td>5</td>\n",
              "      <td>0</td>\n",
              "      <td>0</td>\n",
              "      <td>0</td>\n",
              "      <td>0</td>\n",
              "      <td>0</td>\n",
              "      <td>0</td>\n",
              "      <td>0</td>\n",
              "      <td>0</td>\n",
              "      <td>...</td>\n",
              "      <td>0</td>\n",
              "      <td>0</td>\n",
              "      <td>0</td>\n",
              "      <td>0</td>\n",
              "      <td>0</td>\n",
              "      <td>0</td>\n",
              "      <td>0</td>\n",
              "      <td>0</td>\n",
              "      <td>0</td>\n",
              "      <td>0</td>\n",
              "    </tr>\n",
              "    <tr>\n",
              "      <th>3</th>\n",
              "      <td>36953</td>\n",
              "      <td>0</td>\n",
              "      <td>0</td>\n",
              "      <td>0</td>\n",
              "      <td>0</td>\n",
              "      <td>0</td>\n",
              "      <td>0</td>\n",
              "      <td>0</td>\n",
              "      <td>0</td>\n",
              "      <td>0</td>\n",
              "      <td>...</td>\n",
              "      <td>0</td>\n",
              "      <td>0</td>\n",
              "      <td>0</td>\n",
              "      <td>0</td>\n",
              "      <td>0</td>\n",
              "      <td>0</td>\n",
              "      <td>0</td>\n",
              "      <td>0</td>\n",
              "      <td>0</td>\n",
              "      <td>0</td>\n",
              "    </tr>\n",
              "    <tr>\n",
              "      <th>4</th>\n",
              "      <td>1981</td>\n",
              "      <td>3</td>\n",
              "      <td>0</td>\n",
              "      <td>0</td>\n",
              "      <td>0</td>\n",
              "      <td>0</td>\n",
              "      <td>0</td>\n",
              "      <td>0</td>\n",
              "      <td>0</td>\n",
              "      <td>0</td>\n",
              "      <td>...</td>\n",
              "      <td>0</td>\n",
              "      <td>0</td>\n",
              "      <td>0</td>\n",
              "      <td>0</td>\n",
              "      <td>0</td>\n",
              "      <td>0</td>\n",
              "      <td>0</td>\n",
              "      <td>0</td>\n",
              "      <td>0</td>\n",
              "      <td>0</td>\n",
              "    </tr>\n",
              "  </tbody>\n",
              "</table>\n",
              "<p>5 rows × 786 columns</p>\n",
              "</div>\n",
              "    <div class=\"colab-df-buttons\">\n",
              "\n",
              "  <div class=\"colab-df-container\">\n",
              "    <button class=\"colab-df-convert\" onclick=\"convertToInteractive('df-4ccc0ac4-8c14-47f1-8c74-44fa35cb3c4e')\"\n",
              "            title=\"Convert this dataframe to an interactive table.\"\n",
              "            style=\"display:none;\">\n",
              "\n",
              "  <svg xmlns=\"http://www.w3.org/2000/svg\" height=\"24px\" viewBox=\"0 -960 960 960\">\n",
              "    <path d=\"M120-120v-720h720v720H120Zm60-500h600v-160H180v160Zm220 220h160v-160H400v160Zm0 220h160v-160H400v160ZM180-400h160v-160H180v160Zm440 0h160v-160H620v160ZM180-180h160v-160H180v160Zm440 0h160v-160H620v160Z\"/>\n",
              "  </svg>\n",
              "    </button>\n",
              "\n",
              "  <style>\n",
              "    .colab-df-container {\n",
              "      display:flex;\n",
              "      gap: 12px;\n",
              "    }\n",
              "\n",
              "    .colab-df-convert {\n",
              "      background-color: #E8F0FE;\n",
              "      border: none;\n",
              "      border-radius: 50%;\n",
              "      cursor: pointer;\n",
              "      display: none;\n",
              "      fill: #1967D2;\n",
              "      height: 32px;\n",
              "      padding: 0 0 0 0;\n",
              "      width: 32px;\n",
              "    }\n",
              "\n",
              "    .colab-df-convert:hover {\n",
              "      background-color: #E2EBFA;\n",
              "      box-shadow: 0px 1px 2px rgba(60, 64, 67, 0.3), 0px 1px 3px 1px rgba(60, 64, 67, 0.15);\n",
              "      fill: #174EA6;\n",
              "    }\n",
              "\n",
              "    .colab-df-buttons div {\n",
              "      margin-bottom: 4px;\n",
              "    }\n",
              "\n",
              "    [theme=dark] .colab-df-convert {\n",
              "      background-color: #3B4455;\n",
              "      fill: #D2E3FC;\n",
              "    }\n",
              "\n",
              "    [theme=dark] .colab-df-convert:hover {\n",
              "      background-color: #434B5C;\n",
              "      box-shadow: 0px 1px 3px 1px rgba(0, 0, 0, 0.15);\n",
              "      filter: drop-shadow(0px 1px 2px rgba(0, 0, 0, 0.3));\n",
              "      fill: #FFFFFF;\n",
              "    }\n",
              "  </style>\n",
              "\n",
              "    <script>\n",
              "      const buttonEl =\n",
              "        document.querySelector('#df-4ccc0ac4-8c14-47f1-8c74-44fa35cb3c4e button.colab-df-convert');\n",
              "      buttonEl.style.display =\n",
              "        google.colab.kernel.accessAllowed ? 'block' : 'none';\n",
              "\n",
              "      async function convertToInteractive(key) {\n",
              "        const element = document.querySelector('#df-4ccc0ac4-8c14-47f1-8c74-44fa35cb3c4e');\n",
              "        const dataTable =\n",
              "          await google.colab.kernel.invokeFunction('convertToInteractive',\n",
              "                                                    [key], {});\n",
              "        if (!dataTable) return;\n",
              "\n",
              "        const docLinkHtml = 'Like what you see? Visit the ' +\n",
              "          '<a target=\"_blank\" href=https://colab.research.google.com/notebooks/data_table.ipynb>data table notebook</a>'\n",
              "          + ' to learn more about interactive tables.';\n",
              "        element.innerHTML = '';\n",
              "        dataTable['output_type'] = 'display_data';\n",
              "        await google.colab.output.renderOutput(dataTable, element);\n",
              "        const docLink = document.createElement('div');\n",
              "        docLink.innerHTML = docLinkHtml;\n",
              "        element.appendChild(docLink);\n",
              "      }\n",
              "    </script>\n",
              "  </div>\n",
              "\n",
              "\n",
              "    <div id=\"df-df63f756-c20f-4ad6-90b2-208bc00a9686\">\n",
              "      <button class=\"colab-df-quickchart\" onclick=\"quickchart('df-df63f756-c20f-4ad6-90b2-208bc00a9686')\"\n",
              "                title=\"Suggest charts\"\n",
              "                style=\"display:none;\">\n",
              "\n",
              "<svg xmlns=\"http://www.w3.org/2000/svg\" height=\"24px\"viewBox=\"0 0 24 24\"\n",
              "     width=\"24px\">\n",
              "    <g>\n",
              "        <path d=\"M19 3H5c-1.1 0-2 .9-2 2v14c0 1.1.9 2 2 2h14c1.1 0 2-.9 2-2V5c0-1.1-.9-2-2-2zM9 17H7v-7h2v7zm4 0h-2V7h2v10zm4 0h-2v-4h2v4z\"/>\n",
              "    </g>\n",
              "</svg>\n",
              "      </button>\n",
              "\n",
              "<style>\n",
              "  .colab-df-quickchart {\n",
              "      --bg-color: #E8F0FE;\n",
              "      --fill-color: #1967D2;\n",
              "      --hover-bg-color: #E2EBFA;\n",
              "      --hover-fill-color: #174EA6;\n",
              "      --disabled-fill-color: #AAA;\n",
              "      --disabled-bg-color: #DDD;\n",
              "  }\n",
              "\n",
              "  [theme=dark] .colab-df-quickchart {\n",
              "      --bg-color: #3B4455;\n",
              "      --fill-color: #D2E3FC;\n",
              "      --hover-bg-color: #434B5C;\n",
              "      --hover-fill-color: #FFFFFF;\n",
              "      --disabled-bg-color: #3B4455;\n",
              "      --disabled-fill-color: #666;\n",
              "  }\n",
              "\n",
              "  .colab-df-quickchart {\n",
              "    background-color: var(--bg-color);\n",
              "    border: none;\n",
              "    border-radius: 50%;\n",
              "    cursor: pointer;\n",
              "    display: none;\n",
              "    fill: var(--fill-color);\n",
              "    height: 32px;\n",
              "    padding: 0;\n",
              "    width: 32px;\n",
              "  }\n",
              "\n",
              "  .colab-df-quickchart:hover {\n",
              "    background-color: var(--hover-bg-color);\n",
              "    box-shadow: 0 1px 2px rgba(60, 64, 67, 0.3), 0 1px 3px 1px rgba(60, 64, 67, 0.15);\n",
              "    fill: var(--button-hover-fill-color);\n",
              "  }\n",
              "\n",
              "  .colab-df-quickchart-complete:disabled,\n",
              "  .colab-df-quickchart-complete:disabled:hover {\n",
              "    background-color: var(--disabled-bg-color);\n",
              "    fill: var(--disabled-fill-color);\n",
              "    box-shadow: none;\n",
              "  }\n",
              "\n",
              "  .colab-df-spinner {\n",
              "    border: 2px solid var(--fill-color);\n",
              "    border-color: transparent;\n",
              "    border-bottom-color: var(--fill-color);\n",
              "    animation:\n",
              "      spin 1s steps(1) infinite;\n",
              "  }\n",
              "\n",
              "  @keyframes spin {\n",
              "    0% {\n",
              "      border-color: transparent;\n",
              "      border-bottom-color: var(--fill-color);\n",
              "      border-left-color: var(--fill-color);\n",
              "    }\n",
              "    20% {\n",
              "      border-color: transparent;\n",
              "      border-left-color: var(--fill-color);\n",
              "      border-top-color: var(--fill-color);\n",
              "    }\n",
              "    30% {\n",
              "      border-color: transparent;\n",
              "      border-left-color: var(--fill-color);\n",
              "      border-top-color: var(--fill-color);\n",
              "      border-right-color: var(--fill-color);\n",
              "    }\n",
              "    40% {\n",
              "      border-color: transparent;\n",
              "      border-right-color: var(--fill-color);\n",
              "      border-top-color: var(--fill-color);\n",
              "    }\n",
              "    60% {\n",
              "      border-color: transparent;\n",
              "      border-right-color: var(--fill-color);\n",
              "    }\n",
              "    80% {\n",
              "      border-color: transparent;\n",
              "      border-right-color: var(--fill-color);\n",
              "      border-bottom-color: var(--fill-color);\n",
              "    }\n",
              "    90% {\n",
              "      border-color: transparent;\n",
              "      border-bottom-color: var(--fill-color);\n",
              "    }\n",
              "  }\n",
              "</style>\n",
              "\n",
              "      <script>\n",
              "        async function quickchart(key) {\n",
              "          const quickchartButtonEl =\n",
              "            document.querySelector('#' + key + ' button');\n",
              "          quickchartButtonEl.disabled = true;  // To prevent multiple clicks.\n",
              "          quickchartButtonEl.classList.add('colab-df-spinner');\n",
              "          try {\n",
              "            const charts = await google.colab.kernel.invokeFunction(\n",
              "                'suggestCharts', [key], {});\n",
              "          } catch (error) {\n",
              "            console.error('Error during call to suggestCharts:', error);\n",
              "          }\n",
              "          quickchartButtonEl.classList.remove('colab-df-spinner');\n",
              "          quickchartButtonEl.classList.add('colab-df-quickchart-complete');\n",
              "        }\n",
              "        (() => {\n",
              "          let quickchartButtonEl =\n",
              "            document.querySelector('#df-df63f756-c20f-4ad6-90b2-208bc00a9686 button');\n",
              "          quickchartButtonEl.style.display =\n",
              "            google.colab.kernel.accessAllowed ? 'block' : 'none';\n",
              "        })();\n",
              "      </script>\n",
              "    </div>\n",
              "\n",
              "    </div>\n",
              "  </div>\n"
            ],
            "application/vnd.google.colaboratory.intrinsic+json": {
              "type": "dataframe",
              "variable_name": "df"
            }
          },
          "metadata": {},
          "execution_count": 4
        }
      ]
    },
    {
      "cell_type": "markdown",
      "source": [
        "# Dataset is pre-split into train and test sets"
      ],
      "metadata": {
        "id": "SsYQKU-i_pIe"
      },
      "id": "SsYQKU-i_pIe"
    },
    {
      "cell_type": "code",
      "source": [
        "(X_train, y_train), (X_test, y_test) = keras.datasets.fashion_mnist.load_data()\n",
        "\n",
        "print(\"Train:\", X_train.shape, y_train.shape)\n",
        "print(\"Test:\", X_test.shape, y_test.shape)"
      ],
      "metadata": {
        "colab": {
          "base_uri": "https://localhost:8080/"
        },
        "id": "D2ltu9hT-YWF",
        "outputId": "871a4ec5-d38f-49ba-d85e-a4f4f51bd354"
      },
      "id": "D2ltu9hT-YWF",
      "execution_count": 5,
      "outputs": [
        {
          "output_type": "stream",
          "name": "stdout",
          "text": [
            "Downloading data from https://storage.googleapis.com/tensorflow/tf-keras-datasets/train-labels-idx1-ubyte.gz\n",
            "\u001b[1m29515/29515\u001b[0m \u001b[32m━━━━━━━━━━━━━━━━━━━━\u001b[0m\u001b[37m\u001b[0m \u001b[1m0s\u001b[0m 0us/step\n",
            "Downloading data from https://storage.googleapis.com/tensorflow/tf-keras-datasets/train-images-idx3-ubyte.gz\n",
            "\u001b[1m26421880/26421880\u001b[0m \u001b[32m━━━━━━━━━━━━━━━━━━━━\u001b[0m\u001b[37m\u001b[0m \u001b[1m0s\u001b[0m 0us/step\n",
            "Downloading data from https://storage.googleapis.com/tensorflow/tf-keras-datasets/t10k-labels-idx1-ubyte.gz\n",
            "\u001b[1m5148/5148\u001b[0m \u001b[32m━━━━━━━━━━━━━━━━━━━━\u001b[0m\u001b[37m\u001b[0m \u001b[1m0s\u001b[0m 0us/step\n",
            "Downloading data from https://storage.googleapis.com/tensorflow/tf-keras-datasets/t10k-images-idx3-ubyte.gz\n",
            "\u001b[1m4422102/4422102\u001b[0m \u001b[32m━━━━━━━━━━━━━━━━━━━━\u001b[0m\u001b[37m\u001b[0m \u001b[1m0s\u001b[0m 0us/step\n",
            "Train: (60000, 28, 28) (60000,)\n",
            "Test: (10000, 28, 28) (10000,)\n"
          ]
        }
      ]
    },
    {
      "cell_type": "markdown",
      "source": [
        "2. Data Preprocessing"
      ],
      "metadata": {
        "id": "Et4fPgZ_AKcP"
      },
      "id": "Et4fPgZ_AKcP"
    },
    {
      "cell_type": "markdown",
      "source": [
        "# Normalize pixel values from [0,255] to [0,1] for stability"
      ],
      "metadata": {
        "id": "9WVL85gjAQxq"
      },
      "id": "9WVL85gjAQxq"
    },
    {
      "cell_type": "code",
      "source": [
        "X_train = X_train.astype(\"float32\") / 255.0\n",
        "X_test = X_test.astype(\"float32\") / 255.0"
      ],
      "metadata": {
        "id": "-qfkBpow-mUp"
      },
      "id": "-qfkBpow-mUp",
      "execution_count": 6,
      "outputs": []
    },
    {
      "cell_type": "markdown",
      "source": [
        "# Flatten 28x28 images into 784-length vectors (for DNN input)"
      ],
      "metadata": {
        "id": "-o447eLAAiX6"
      },
      "id": "-o447eLAAiX6"
    },
    {
      "cell_type": "code",
      "source": [
        "X_train = X_train.reshape(-1, 28*28)\n",
        "X_test = X_test.reshape(-1, 28*28)"
      ],
      "metadata": {
        "id": "TzSFT2I2AjVH"
      },
      "id": "TzSFT2I2AjVH",
      "execution_count": 7,
      "outputs": []
    },
    {
      "cell_type": "markdown",
      "source": [
        "# Number of unique classes (10 categories: shoes, shirts, bags, etc.)"
      ],
      "metadata": {
        "id": "UXVEbftWAx_I"
      },
      "id": "UXVEbftWAx_I"
    },
    {
      "cell_type": "code",
      "source": [
        "num_classes = len(np.unique(y_train))\n",
        "print(\"Number of classes:\", num_classes)"
      ],
      "metadata": {
        "colab": {
          "base_uri": "https://localhost:8080/"
        },
        "id": "yAAxnOG3AzYF",
        "outputId": "da01d09d-b3f5-426e-8394-f6c6c7ca3dac"
      },
      "id": "yAAxnOG3AzYF",
      "execution_count": 8,
      "outputs": [
        {
          "output_type": "stream",
          "name": "stdout",
          "text": [
            "Number of classes: 10\n"
          ]
        }
      ]
    },
    {
      "cell_type": "markdown",
      "source": [
        "3. Model Builder Function"
      ],
      "metadata": {
        "id": "lg_YVsyxA-cu"
      },
      "id": "lg_YVsyxA-cu"
    },
    {
      "cell_type": "markdown",
      "source": [
        "# Builds different candidate DNN models for validation"
      ],
      "metadata": {
        "id": "gXITeQcRBD3c"
      },
      "id": "gXITeQcRBD3c"
    },
    {
      "cell_type": "code",
      "source": [
        "def build_dnn(hidden_units=[256,128], dropout=0.3, lr=1e-3, batch_norm=False):\n",
        "    model = keras.Sequential(name=\"DNN\")\n",
        "    model.add(layers.Input(shape=(784,)))\n",
        "\n",
        "\n",
        "    #Add hidden layers\n",
        "\n",
        "    for units in hidden_units:\n",
        "        model.add(layers.Dense(units, activation=\"relu\"))\n",
        "        if batch_norm:\n",
        "            model.add(layers.BatchNormalization())  # optional batch norm\n",
        "        model.add(layers.Dropout(dropout))\n",
        "\n",
        "     #Output layer: softmax for multi-class classification\n",
        "        model.add(layers.Dense(num_classes, activation=\"softmax\"))\n",
        "\n",
        "\n",
        "    # Compile with Adam optimizer\n",
        "    model.compile(\n",
        "        optimizer=keras.optimizers.Adam(learning_rate=lr),\n",
        "        loss=\"sparse_categorical_crossentropy\",\n",
        "        metrics=[\"accuracy\"],\n",
        "    )\n",
        "    return model"
      ],
      "metadata": {
        "id": "1ob626SGA_cs"
      },
      "id": "1ob626SGA_cs",
      "execution_count": 18,
      "outputs": []
    },
    {
      "cell_type": "markdown",
      "source": [
        "4. Candidate Models for Validation"
      ],
      "metadata": {
        "id": "Gns2PVnuDqj7"
      },
      "id": "Gns2PVnuDqj7"
    },
    {
      "cell_type": "code",
      "source": [
        "candidates = [\n",
        "    {\"name\": \"DNN_small\", \"hidden_units\": [256,128], \"dropout\": 0.3, \"lr\": 1e-3, \"batch_norm\": False},\n",
        "    {\"name\": \"DNN_deeper\", \"hidden_units\": [512,256,128], \"dropout\": 0.4, \"lr\": 8e-4, \"batch_norm\": False},\n",
        "    {\"name\": \"DNN_bn\", \"hidden_units\": [512,256,128], \"dropout\": 0.4, \"lr\": 1e-3, \"batch_norm\": True},  # with BatchNorm\n",
        "]"
      ],
      "metadata": {
        "id": "WYsmWEj5DxU3"
      },
      "id": "WYsmWEj5DxU3",
      "execution_count": 20,
      "outputs": []
    },
    {
      "cell_type": "markdown",
      "source": [
        "5. Training Configuration"
      ],
      "metadata": {
        "id": "Smm9ZcMsD47W"
      },
      "id": "Smm9ZcMsD47W"
    },
    {
      "cell_type": "code",
      "source": [
        "BATCH_SIZE = 128\n",
        "EPOCHS = 30\n",
        "\n",
        "# Early stopping + LR scheduler to optimize training\n",
        "callbacks = [\n",
        "    keras.callbacks.EarlyStopping(patience=5, restore_best_weights=True, monitor=\"val_accuracy\"),\n",
        "    keras.callbacks.ReduceLROnPlateau(factor=0.5, patience=2, min_lr=1e-5, monitor=\"val_loss\"),\n",
        "]"
      ],
      "metadata": {
        "id": "K_lv7R2iEAoK"
      },
      "id": "K_lv7R2iEAoK",
      "execution_count": 21,
      "outputs": []
    },
    {
      "cell_type": "markdown",
      "source": [
        "6. Train and Validate Each Candidate"
      ],
      "metadata": {
        "id": "mY-hrTonEI6W"
      },
      "id": "mY-hrTonEI6W"
    },
    {
      "cell_type": "code",
      "source": [
        "histories = {}\n",
        "val_scores = {}\n",
        "models = {}\n",
        "\n",
        "for cfg in candidates:\n",
        "    print(f\"\\n=== Training {cfg['name']} ===\")\n",
        "    model = build_dnn(cfg[\"hidden_units\"], cfg[\"dropout\"], cfg[\"lr\"], cfg[\"batch_norm\"])\n",
        "\n",
        "    history = model.fit(\n",
        "        X_train, y_train,\n",
        "        validation_split=0.1,   # 10% of train set for validation\n",
        "        batch_size=BATCH_SIZE,\n",
        "        epochs=EPOCHS,\n",
        "        callbacks=callbacks,\n",
        "        verbose=2,\n",
        "    )\n",
        "\n",
        "    best_val_acc = max(history.history[\"val_accuracy\"])\n",
        "    histories[cfg[\"name\"]] = history\n",
        "    val_scores[cfg[\"name\"]] = best_val_acc\n",
        "    models[cfg[\"name\"]] = model\n",
        "\n",
        "    print(f\"{cfg['name']} best validation accuracy: {best_val_acc:.4f}\")\n",
        "\n",
        "# Select best model based on validation accuracy\n",
        "best_name = max(val_scores, key=val_scores.get)\n",
        "best_model = models[best_name]\n",
        "print(f\"\\n✅ Best model selected: {best_name} (val_acc={val_scores[best_name]:.4f})\")"
      ],
      "metadata": {
        "colab": {
          "base_uri": "https://localhost:8080/"
        },
        "id": "UrE1jdGWECnv",
        "outputId": "4b9037fa-d1e1-43b9-c7bd-a97e4a1b1743"
      },
      "id": "UrE1jdGWECnv",
      "execution_count": 22,
      "outputs": [
        {
          "output_type": "stream",
          "name": "stdout",
          "text": [
            "\n",
            "=== Training DNN_small ===\n",
            "Epoch 1/30\n",
            "422/422 - 5s - 13ms/step - accuracy: 0.7764 - loss: 0.6343 - val_accuracy: 0.8463 - val_loss: 0.4103 - learning_rate: 1.0000e-03\n",
            "Epoch 2/30\n",
            "422/422 - 3s - 7ms/step - accuracy: 0.8410 - loss: 0.4424 - val_accuracy: 0.8612 - val_loss: 0.3766 - learning_rate: 1.0000e-03\n",
            "Epoch 3/30\n",
            "422/422 - 3s - 7ms/step - accuracy: 0.8553 - loss: 0.3989 - val_accuracy: 0.8700 - val_loss: 0.3561 - learning_rate: 1.0000e-03\n",
            "Epoch 4/30\n",
            "422/422 - 6s - 14ms/step - accuracy: 0.8616 - loss: 0.3792 - val_accuracy: 0.8732 - val_loss: 0.3524 - learning_rate: 1.0000e-03\n",
            "Epoch 5/30\n",
            "422/422 - 5s - 11ms/step - accuracy: 0.8697 - loss: 0.3585 - val_accuracy: 0.8792 - val_loss: 0.3326 - learning_rate: 1.0000e-03\n",
            "Epoch 6/30\n",
            "422/422 - 3s - 7ms/step - accuracy: 0.8749 - loss: 0.3466 - val_accuracy: 0.8770 - val_loss: 0.3340 - learning_rate: 1.0000e-03\n",
            "Epoch 7/30\n",
            "422/422 - 3s - 8ms/step - accuracy: 0.8754 - loss: 0.3359 - val_accuracy: 0.8800 - val_loss: 0.3346 - learning_rate: 1.0000e-03\n",
            "Epoch 8/30\n",
            "422/422 - 3s - 8ms/step - accuracy: 0.8878 - loss: 0.3032 - val_accuracy: 0.8775 - val_loss: 0.3341 - learning_rate: 5.0000e-04\n",
            "Epoch 9/30\n",
            "422/422 - 3s - 7ms/step - accuracy: 0.8921 - loss: 0.2940 - val_accuracy: 0.8843 - val_loss: 0.3100 - learning_rate: 5.0000e-04\n",
            "Epoch 10/30\n",
            "422/422 - 3s - 7ms/step - accuracy: 0.8935 - loss: 0.2867 - val_accuracy: 0.8858 - val_loss: 0.3053 - learning_rate: 5.0000e-04\n",
            "Epoch 11/30\n",
            "422/422 - 4s - 9ms/step - accuracy: 0.8954 - loss: 0.2818 - val_accuracy: 0.8875 - val_loss: 0.3078 - learning_rate: 5.0000e-04\n",
            "Epoch 12/30\n",
            "422/422 - 5s - 11ms/step - accuracy: 0.8977 - loss: 0.2769 - val_accuracy: 0.8910 - val_loss: 0.3073 - learning_rate: 5.0000e-04\n",
            "Epoch 13/30\n",
            "422/422 - 3s - 7ms/step - accuracy: 0.9034 - loss: 0.2594 - val_accuracy: 0.8890 - val_loss: 0.3014 - learning_rate: 2.5000e-04\n",
            "Epoch 14/30\n",
            "422/422 - 3s - 8ms/step - accuracy: 0.9062 - loss: 0.2537 - val_accuracy: 0.8900 - val_loss: 0.2999 - learning_rate: 2.5000e-04\n",
            "Epoch 15/30\n",
            "422/422 - 4s - 9ms/step - accuracy: 0.9063 - loss: 0.2511 - val_accuracy: 0.8932 - val_loss: 0.2983 - learning_rate: 2.5000e-04\n",
            "Epoch 16/30\n",
            "422/422 - 4s - 10ms/step - accuracy: 0.9094 - loss: 0.2480 - val_accuracy: 0.8913 - val_loss: 0.2960 - learning_rate: 2.5000e-04\n",
            "Epoch 17/30\n",
            "422/422 - 3s - 7ms/step - accuracy: 0.9086 - loss: 0.2461 - val_accuracy: 0.8958 - val_loss: 0.2937 - learning_rate: 2.5000e-04\n",
            "Epoch 18/30\n",
            "422/422 - 4s - 10ms/step - accuracy: 0.9105 - loss: 0.2420 - val_accuracy: 0.8927 - val_loss: 0.2940 - learning_rate: 2.5000e-04\n",
            "Epoch 19/30\n",
            "422/422 - 4s - 9ms/step - accuracy: 0.9104 - loss: 0.2389 - val_accuracy: 0.8893 - val_loss: 0.2947 - learning_rate: 2.5000e-04\n",
            "Epoch 20/30\n",
            "422/422 - 5s - 12ms/step - accuracy: 0.9138 - loss: 0.2300 - val_accuracy: 0.8955 - val_loss: 0.2921 - learning_rate: 1.2500e-04\n",
            "Epoch 21/30\n",
            "422/422 - 4s - 9ms/step - accuracy: 0.9147 - loss: 0.2285 - val_accuracy: 0.8950 - val_loss: 0.2916 - learning_rate: 1.2500e-04\n",
            "Epoch 22/30\n",
            "422/422 - 5s - 11ms/step - accuracy: 0.9155 - loss: 0.2255 - val_accuracy: 0.8952 - val_loss: 0.2921 - learning_rate: 1.2500e-04\n",
            "DNN_small best validation accuracy: 0.8958\n",
            "\n",
            "=== Training DNN_deeper ===\n",
            "Epoch 1/30\n",
            "422/422 - 8s - 19ms/step - accuracy: 0.7363 - loss: 0.7313 - val_accuracy: 0.8428 - val_loss: 0.4383 - learning_rate: 8.0000e-04\n",
            "Epoch 2/30\n",
            "422/422 - 10s - 24ms/step - accuracy: 0.8284 - loss: 0.4842 - val_accuracy: 0.8535 - val_loss: 0.3873 - learning_rate: 8.0000e-04\n",
            "Epoch 3/30\n",
            "422/422 - 5s - 13ms/step - accuracy: 0.8472 - loss: 0.4341 - val_accuracy: 0.8607 - val_loss: 0.3744 - learning_rate: 8.0000e-04\n",
            "Epoch 4/30\n",
            "422/422 - 6s - 15ms/step - accuracy: 0.8538 - loss: 0.4065 - val_accuracy: 0.8600 - val_loss: 0.3739 - learning_rate: 8.0000e-04\n",
            "Epoch 5/30\n",
            "422/422 - 6s - 13ms/step - accuracy: 0.8595 - loss: 0.3908 - val_accuracy: 0.8713 - val_loss: 0.3399 - learning_rate: 8.0000e-04\n",
            "Epoch 6/30\n",
            "422/422 - 10s - 24ms/step - accuracy: 0.8643 - loss: 0.3750 - val_accuracy: 0.8755 - val_loss: 0.3422 - learning_rate: 8.0000e-04\n",
            "Epoch 7/30\n",
            "422/422 - 6s - 15ms/step - accuracy: 0.8701 - loss: 0.3650 - val_accuracy: 0.8782 - val_loss: 0.3414 - learning_rate: 8.0000e-04\n",
            "Epoch 8/30\n",
            "422/422 - 10s - 23ms/step - accuracy: 0.8816 - loss: 0.3293 - val_accuracy: 0.8810 - val_loss: 0.3239 - learning_rate: 4.0000e-04\n",
            "Epoch 9/30\n",
            "422/422 - 7s - 17ms/step - accuracy: 0.8838 - loss: 0.3157 - val_accuracy: 0.8868 - val_loss: 0.3168 - learning_rate: 4.0000e-04\n",
            "Epoch 10/30\n",
            "422/422 - 5s - 13ms/step - accuracy: 0.8867 - loss: 0.3112 - val_accuracy: 0.8867 - val_loss: 0.3158 - learning_rate: 4.0000e-04\n",
            "Epoch 11/30\n",
            "422/422 - 10s - 25ms/step - accuracy: 0.8881 - loss: 0.3042 - val_accuracy: 0.8862 - val_loss: 0.3201 - learning_rate: 4.0000e-04\n",
            "Epoch 12/30\n",
            "422/422 - 10s - 24ms/step - accuracy: 0.8913 - loss: 0.3011 - val_accuracy: 0.8835 - val_loss: 0.3167 - learning_rate: 4.0000e-04\n",
            "Epoch 13/30\n",
            "422/422 - 11s - 25ms/step - accuracy: 0.8968 - loss: 0.2810 - val_accuracy: 0.8925 - val_loss: 0.3070 - learning_rate: 2.0000e-04\n",
            "Epoch 14/30\n",
            "422/422 - 11s - 25ms/step - accuracy: 0.8978 - loss: 0.2784 - val_accuracy: 0.8895 - val_loss: 0.3000 - learning_rate: 2.0000e-04\n",
            "Epoch 15/30\n",
            "422/422 - 10s - 24ms/step - accuracy: 0.8990 - loss: 0.2740 - val_accuracy: 0.8912 - val_loss: 0.3018 - learning_rate: 2.0000e-04\n",
            "Epoch 16/30\n",
            "422/422 - 6s - 13ms/step - accuracy: 0.9003 - loss: 0.2703 - val_accuracy: 0.8893 - val_loss: 0.3014 - learning_rate: 2.0000e-04\n",
            "Epoch 17/30\n",
            "422/422 - 6s - 15ms/step - accuracy: 0.9041 - loss: 0.2617 - val_accuracy: 0.8925 - val_loss: 0.3023 - learning_rate: 1.0000e-04\n",
            "Epoch 18/30\n",
            "422/422 - 9s - 22ms/step - accuracy: 0.9056 - loss: 0.2567 - val_accuracy: 0.8930 - val_loss: 0.3004 - learning_rate: 1.0000e-04\n",
            "Epoch 19/30\n",
            "422/422 - 10s - 24ms/step - accuracy: 0.9088 - loss: 0.2499 - val_accuracy: 0.8932 - val_loss: 0.3009 - learning_rate: 5.0000e-05\n",
            "Epoch 20/30\n",
            "422/422 - 10s - 24ms/step - accuracy: 0.9077 - loss: 0.2483 - val_accuracy: 0.8923 - val_loss: 0.2994 - learning_rate: 5.0000e-05\n",
            "Epoch 21/30\n",
            "422/422 - 6s - 15ms/step - accuracy: 0.9087 - loss: 0.2468 - val_accuracy: 0.8922 - val_loss: 0.2994 - learning_rate: 5.0000e-05\n",
            "Epoch 22/30\n",
            "422/422 - 10s - 24ms/step - accuracy: 0.9098 - loss: 0.2455 - val_accuracy: 0.8933 - val_loss: 0.2992 - learning_rate: 5.0000e-05\n",
            "Epoch 23/30\n",
            "422/422 - 9s - 22ms/step - accuracy: 0.9091 - loss: 0.2460 - val_accuracy: 0.8927 - val_loss: 0.3013 - learning_rate: 5.0000e-05\n",
            "Epoch 24/30\n",
            "422/422 - 6s - 15ms/step - accuracy: 0.9099 - loss: 0.2436 - val_accuracy: 0.8943 - val_loss: 0.2988 - learning_rate: 5.0000e-05\n",
            "Epoch 25/30\n",
            "422/422 - 5s - 13ms/step - accuracy: 0.9116 - loss: 0.2419 - val_accuracy: 0.8920 - val_loss: 0.2995 - learning_rate: 5.0000e-05\n",
            "Epoch 26/30\n",
            "422/422 - 6s - 15ms/step - accuracy: 0.9105 - loss: 0.2425 - val_accuracy: 0.8928 - val_loss: 0.3015 - learning_rate: 5.0000e-05\n",
            "Epoch 27/30\n",
            "422/422 - 10s - 25ms/step - accuracy: 0.9121 - loss: 0.2397 - val_accuracy: 0.8933 - val_loss: 0.2982 - learning_rate: 2.5000e-05\n",
            "Epoch 28/30\n",
            "422/422 - 9s - 22ms/step - accuracy: 0.9125 - loss: 0.2377 - val_accuracy: 0.8928 - val_loss: 0.2980 - learning_rate: 2.5000e-05\n",
            "Epoch 29/30\n",
            "422/422 - 10s - 24ms/step - accuracy: 0.9128 - loss: 0.2373 - val_accuracy: 0.8933 - val_loss: 0.2978 - learning_rate: 2.5000e-05\n",
            "DNN_deeper best validation accuracy: 0.8943\n",
            "\n",
            "=== Training DNN_bn ===\n",
            "Epoch 1/30\n",
            "422/422 - 10s - 23ms/step - accuracy: 0.7721 - loss: 0.6577 - val_accuracy: 0.8395 - val_loss: 0.4297 - learning_rate: 1.0000e-03\n",
            "Epoch 2/30\n",
            "422/422 - 7s - 16ms/step - accuracy: 0.8290 - loss: 0.4788 - val_accuracy: 0.8577 - val_loss: 0.3775 - learning_rate: 1.0000e-03\n",
            "Epoch 3/30\n",
            "422/422 - 10s - 23ms/step - accuracy: 0.8446 - loss: 0.4349 - val_accuracy: 0.8468 - val_loss: 0.3962 - learning_rate: 1.0000e-03\n",
            "Epoch 4/30\n",
            "422/422 - 7s - 16ms/step - accuracy: 0.8487 - loss: 0.4199 - val_accuracy: 0.8665 - val_loss: 0.3615 - learning_rate: 1.0000e-03\n",
            "Epoch 5/30\n",
            "422/422 - 7s - 17ms/step - accuracy: 0.8531 - loss: 0.4074 - val_accuracy: 0.8677 - val_loss: 0.3634 - learning_rate: 1.0000e-03\n",
            "Epoch 6/30\n",
            "422/422 - 6s - 15ms/step - accuracy: 0.8585 - loss: 0.3909 - val_accuracy: 0.8695 - val_loss: 0.3475 - learning_rate: 1.0000e-03\n",
            "Epoch 7/30\n",
            "422/422 - 7s - 17ms/step - accuracy: 0.8618 - loss: 0.3801 - val_accuracy: 0.8633 - val_loss: 0.3605 - learning_rate: 1.0000e-03\n",
            "Epoch 8/30\n",
            "422/422 - 10s - 23ms/step - accuracy: 0.8641 - loss: 0.3738 - val_accuracy: 0.8592 - val_loss: 0.3807 - learning_rate: 1.0000e-03\n",
            "Epoch 9/30\n",
            "422/422 - 6s - 15ms/step - accuracy: 0.8751 - loss: 0.3449 - val_accuracy: 0.8767 - val_loss: 0.3259 - learning_rate: 5.0000e-04\n",
            "Epoch 10/30\n",
            "422/422 - 11s - 25ms/step - accuracy: 0.8771 - loss: 0.3353 - val_accuracy: 0.8805 - val_loss: 0.3212 - learning_rate: 5.0000e-04\n",
            "Epoch 11/30\n",
            "422/422 - 6s - 15ms/step - accuracy: 0.8797 - loss: 0.3276 - val_accuracy: 0.8780 - val_loss: 0.3335 - learning_rate: 5.0000e-04\n",
            "Epoch 12/30\n",
            "422/422 - 10s - 25ms/step - accuracy: 0.8813 - loss: 0.3260 - val_accuracy: 0.8848 - val_loss: 0.3170 - learning_rate: 5.0000e-04\n",
            "Epoch 13/30\n",
            "422/422 - 10s - 24ms/step - accuracy: 0.8852 - loss: 0.3165 - val_accuracy: 0.8808 - val_loss: 0.3238 - learning_rate: 5.0000e-04\n",
            "Epoch 14/30\n",
            "422/422 - 7s - 16ms/step - accuracy: 0.8850 - loss: 0.3158 - val_accuracy: 0.8827 - val_loss: 0.3202 - learning_rate: 5.0000e-04\n",
            "Epoch 15/30\n",
            "422/422 - 6s - 14ms/step - accuracy: 0.8902 - loss: 0.3016 - val_accuracy: 0.8923 - val_loss: 0.3060 - learning_rate: 2.5000e-04\n",
            "Epoch 16/30\n",
            "422/422 - 10s - 24ms/step - accuracy: 0.8941 - loss: 0.2915 - val_accuracy: 0.8875 - val_loss: 0.3059 - learning_rate: 2.5000e-04\n",
            "Epoch 17/30\n",
            "422/422 - 7s - 16ms/step - accuracy: 0.8946 - loss: 0.2878 - val_accuracy: 0.8903 - val_loss: 0.3003 - learning_rate: 2.5000e-04\n",
            "Epoch 18/30\n",
            "422/422 - 6s - 14ms/step - accuracy: 0.8973 - loss: 0.2856 - val_accuracy: 0.8897 - val_loss: 0.3019 - learning_rate: 2.5000e-04\n",
            "Epoch 19/30\n",
            "422/422 - 8s - 19ms/step - accuracy: 0.8964 - loss: 0.2834 - val_accuracy: 0.8907 - val_loss: 0.3020 - learning_rate: 2.5000e-04\n",
            "Epoch 20/30\n",
            "422/422 - 6s - 15ms/step - accuracy: 0.8995 - loss: 0.2751 - val_accuracy: 0.8922 - val_loss: 0.2976 - learning_rate: 1.2500e-04\n",
            "DNN_bn best validation accuracy: 0.8923\n",
            "\n",
            "✅ Best model selected: DNN_small (val_acc=0.8958)\n"
          ]
        }
      ]
    },
    {
      "cell_type": "markdown",
      "source": [
        "7. Plot Training Curves"
      ],
      "metadata": {
        "id": "rtT7FdbKEmCf"
      },
      "id": "rtT7FdbKEmCf"
    },
    {
      "cell_type": "code",
      "source": [
        "def plot_history(h, name):\n",
        "    plt.figure(figsize=(6,4))\n",
        "    plt.plot(h.history[\"accuracy\"], label=\"train_acc\")\n",
        "    plt.plot(h.history[\"val_accuracy\"], label=\"val_acc\")\n",
        "    plt.title(f\"{name} Accuracy\")\n",
        "    plt.xlabel(\"Epoch\"); plt.ylabel(\"Accuracy\"); plt.legend(); plt.show()\n",
        "\n",
        "    plt.figure(figsize=(6,4))\n",
        "    plt.plot(h.history[\"loss\"], label=\"train_loss\")\n",
        "    plt.plot(h.history[\"val_loss\"], label=\"val_loss\")\n",
        "    plt.title(f\"{name} Loss\")\n",
        "    plt.xlabel(\"Epoch\"); plt.ylabel(\"Loss\"); plt.legend(); plt.show()\n",
        "\n",
        "plot_history(histories[best_name], best_name)"
      ],
      "metadata": {
        "colab": {
          "base_uri": "https://localhost:8080/",
          "height": 803
        },
        "id": "X0VHcMHiEiUL",
        "outputId": "484ff3b8-254c-4fee-f8a2-01fdf9c5995b"
      },
      "id": "X0VHcMHiEiUL",
      "execution_count": 23,
      "outputs": [
        {
          "output_type": "display_data",
          "data": {
            "text/plain": [
              "<Figure size 600x400 with 1 Axes>"
            ],
            "image/png": "[encoded data removed]"
          },
          "metadata": {}
        },
        {
          "output_type": "display_data",
          "data": {
            "text/plain": [
              "<Figure size 600x400 with 1 Axes>"
            ],
            "image/png": "[encoded data removed]"
          },
          "metadata": {}
        }
      ]
    },
    {
      "cell_type": "markdown",
      "source": [
        "8. Final Evaluation on Test Set"
      ],
      "metadata": {
        "id": "nzwPH5kfE8dI"
      },
      "id": "nzwPH5kfE8dI"
    },
    {
      "cell_type": "code",
      "source": [
        "# Predict test labels\n",
        "y_pred_probs = best_model.predict(X_test, batch_size=BATCH_SIZE, verbose=0)\n",
        "y_pred = np.argmax(y_pred_probs, axis=1)\n",
        "\n",
        "# Accuracy & F1-score\n",
        "acc = accuracy_score(y_test, y_pred)\n",
        "f1_macro = f1_score(y_test, y_pred, average=\"macro\")\n",
        "\n",
        "print(f\"\\n📊 Test Accuracy: {acc:.4f}\")\n",
        "print(f\"📊 Test F1 (macro): {f1_macro:.4f}\\n\")\n",
        "\n",
        "# Detailed classification report\n",
        "print(\"Classification Report:\\n\", classification_report(y_test, y_pred, digits=4))\n",
        "\n",
        "# Confusion Matrix\n",
        "cm = confusion_matrix(y_test, y_pred)\n",
        "plt.figure(figsize=(8,6))\n",
        "sns.heatmap(cm, annot=False, fmt=\"d\", cmap=\"Blues\")\n",
        "plt.title(\"Confusion Matrix - Best DNN Model\")\n",
        "plt.xlabel(\"Predicted\"); plt.ylabel(\"True\")\n",
        "plt.show()"
      ],
      "metadata": {
        "colab": {
          "base_uri": "https://localhost:8080/",
          "height": 963
        },
        "id": "JgDcb0NCE9Ty",
        "outputId": "bed96077-db2c-43b9-d967-4a5e5519389e"
      },
      "id": "JgDcb0NCE9Ty",
      "execution_count": 24,
      "outputs": [
        {
          "output_type": "stream",
          "name": "stdout",
          "text": [
            "\n",
            "📊 Test Accuracy: 0.8912\n",
            "📊 Test F1 (macro): 0.8910\n",
            "\n",
            "Classification Report:\n",
            "               precision    recall  f1-score   support\n",
            "\n",
            "           0     0.8305    0.8380    0.8342      1000\n",
            "           1     0.9928    0.9690    0.9808      1000\n",
            "           2     0.7990    0.8310    0.8147      1000\n",
            "           3     0.8968    0.8950    0.8959      1000\n",
            "           4     0.8002    0.8290    0.8143      1000\n",
            "           5     0.9817    0.9680    0.9748      1000\n",
            "           6     0.7267    0.6780    0.7015      1000\n",
            "           7     0.9472    0.9680    0.9575      1000\n",
            "           8     0.9731    0.9780    0.9756      1000\n",
            "           9     0.9628    0.9580    0.9604      1000\n",
            "\n",
            "    accuracy                         0.8912     10000\n",
            "   macro avg     0.8911    0.8912    0.8910     10000\n",
            "weighted avg     0.8911    0.8912    0.8910     10000\n",
            "\n"
          ]
        },
        {
          "output_type": "display_data",
          "data": {
            "text/plain": [
              "<Figure size 800x600 with 2 Axes>"
            ],
            "image/png": "[encoded data removed]"
          },
          "metadata": {}
        }
      ]
    },
    {
      "cell_type": "markdown",
      "source": [
        "10. Make Predictions & Visualize Results"
      ],
      "metadata": {
        "id": "zEDWSWm-NOTk"
      },
      "id": "zEDWSWm-NOTk"
    },
    {
      "cell_type": "code",
      "source": [
        "# Use the best_model to predict probabilities\n",
        "y_pred_probs = best_model.predict(X_test, batch_size=BATCH_SIZE, verbose=0)\n",
        "y_pred = np.argmax(y_pred_probs, axis=1)"
      ],
      "metadata": {
        "id": "RHnXuetkNO51"
      },
      "id": "RHnXuetkNO51",
      "execution_count": 28,
      "outputs": []
    },
    {
      "cell_type": "code",
      "source": [
        "# Define class names for Fashion-MNIST\n",
        "class_names = [\n",
        "    \"T-shirt/top\", \"Trouser\", \"Pullover\", \"Dress\", \"Coat\",\n",
        "    \"Sandal\", \"Shirt\", \"Sneaker\", \"Bag\", \"Ankle boot\"\n",
        "]\n",
        "\n",
        "# Pick some random indices to visualize\n",
        "num_images = 9\n",
        "indices = random.sample(range(len(X_test)), num_images)\n",
        "\n",
        "plt.figure(figsize=(10,10))\n",
        "\n",
        "for i, idx in enumerate(indices):\n",
        "    plt.subplot(3,3,i+1)\n",
        "    img = X_test[idx].reshape(28,28)  # reshape back from 784 -> 28x28\n",
        "\n",
        "    plt.imshow(img, cmap=\"gray\")\n",
        "    plt.axis(\"off\")\n",
        "\n",
        "    true_label = class_names[y_test[idx]]\n",
        "    pred_label = class_names[y_pred[idx]]\n",
        "\n",
        "    color = \"green\" if y_test[idx] == y_pred[idx] else \"red\"\n",
        "    plt.title(f\"T: {true_label}\\nP: {pred_label}\", color=color)\n",
        "\n",
        "plt.suptitle(\"Sample Predictions (Green=Correct, Red=Wrong)\", fontsize=14)\n",
        "plt.show()"
      ],
      "metadata": {
        "colab": {
          "base_uri": "https://localhost:8080/",
          "height": 907
        },
        "id": "WmQZj4cYOQwz",
        "outputId": "84fc76df-71e3-4150-a4be-f89101e4a7b5"
      },
      "id": "WmQZj4cYOQwz",
      "execution_count": 29,
      "outputs": [
        {
          "output_type": "display_data",
          "data": {
            "text/plain": [
              "<Figure size 1000x1000 with 9 Axes>"
            ],
            "image/png": "[encoded data removed]"
          },
          "metadata": {}
        }
      ]
    },
    {
      "cell_type": "markdown",
      "source": [
        "9. Saving the Best Model / Keras Format\n"
      ],
      "metadata": {
        "id": "R_ALw3tTJsQD"
      },
      "id": "R_ALw3tTJsQD"
    },
    {
      "cell_type": "code",
      "source": [
        "# Save in the new Keras format (.keras)\n",
        "best_model.save(\"best_fashion_mnist_dnn.keras\")\n",
        "print(\"\\n💾 Best model saved as best_fashion_mnist_dnn.keras\")"
      ],
      "metadata": {
        "colab": {
          "base_uri": "https://localhost:8080/"
        },
        "id": "5v6f9BLzK7e6",
        "outputId": "5372f8bd-77ed-4dbf-eeef-98708f7e3488"
      },
      "id": "5v6f9BLzK7e6",
      "execution_count": 30,
      "outputs": [
        {
          "output_type": "stream",
          "name": "stdout",
          "text": [
            "\n",
            "💾 Best model saved as best_fashion_mnist_dnn.keras\n"
          ]
        }
      ]
    },
    {
      "cell_type": "markdown",
      "source": [
        "✅ These are all the steps:\n",
        "\n",
        "Load dataset (Fashion-MNIST via TensorFlow).\n",
        "\n",
        "Preprocessing (normalize + reshape).\n",
        "\n",
        "Model builder (flexible DNN with dropout + optional BatchNorm).\n",
        "\n",
        "Validation step with multiple candidate architectures.\n",
        "\n",
        "Callbacks (EarlyStopping, ReduceLROnPlateau).\n",
        "\n",
        "Training histories stored and best model automatically selected.\n",
        "\n",
        "Visualization of learning curves (accuracy & loss).\n",
        "\n",
        "Final evaluation with accuracy, F1, classification report, confusion matrix."
      ],
      "metadata": {
        "id": "QhMUbXzGHyI2"
      },
      "id": "QhMUbXzGHyI2"
    }
  ],
  "metadata": {
    "kernelspec": {
      "display_name": "Python 3",
      "language": "python",
      "name": "python3"
    },
    "language_info": {
      "codemirror_mode": {
        "name": "ipython",
        "version": 3
      },
      "file_extension": ".py",
      "mimetype": "text/x-python",
      "name": "python",
      "nbconvert_exporter": "python",
      "pygments_lexer": "ipython3",
      "version": "3.8.5"
    },
    "colab": {
      "provenance": []
    }
  },
  "nbformat": 4,
  "nbformat_minor": 5
}